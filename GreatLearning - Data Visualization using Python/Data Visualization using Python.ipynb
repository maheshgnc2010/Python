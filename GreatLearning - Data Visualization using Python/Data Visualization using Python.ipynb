{
 "cells": [
  {
   "cell_type": "code",
   "execution_count": 1,
   "id": "7d3f5d50",
   "metadata": {},
   "outputs": [],
   "source": [
    "import pandas as pd\n",
    "import seaborn as sns\n",
    "import matplotlib.pyplot as plt\n",
    "%matplotlib inline \n",
    "sns.set(color_codes=True)"
   ]
  },
  {
   "cell_type": "code",
   "execution_count": 2,
   "id": "893f00bd",
   "metadata": {},
   "outputs": [],
   "source": [
    "auto =pd.read_csv('Automobile.csv')"
   ]
  },
  {
   "cell_type": "code",
   "execution_count": 3,
   "id": "7f2c4a23",
   "metadata": {},
   "outputs": [
    {
     "data": {
      "text/html": [
       "<div>\n",
       "<style scoped>\n",
       "    .dataframe tbody tr th:only-of-type {\n",
       "        vertical-align: middle;\n",
       "    }\n",
       "\n",
       "    .dataframe tbody tr th {\n",
       "        vertical-align: top;\n",
       "    }\n",
       "\n",
       "    .dataframe thead th {\n",
       "        text-align: right;\n",
       "    }\n",
       "</style>\n",
       "<table border=\"1\" class=\"dataframe\">\n",
       "  <thead>\n",
       "    <tr style=\"text-align: right;\">\n",
       "      <th></th>\n",
       "      <th>symboling</th>\n",
       "      <th>normalized_losses</th>\n",
       "      <th>make</th>\n",
       "      <th>fuel_type</th>\n",
       "      <th>aspiration</th>\n",
       "      <th>number_of_doors</th>\n",
       "      <th>body_style</th>\n",
       "      <th>drive_wheels</th>\n",
       "      <th>engine_location</th>\n",
       "      <th>wheel_base</th>\n",
       "      <th>...</th>\n",
       "      <th>engine_size</th>\n",
       "      <th>fuel_system</th>\n",
       "      <th>bore</th>\n",
       "      <th>stroke</th>\n",
       "      <th>compression_ratio</th>\n",
       "      <th>horsepower</th>\n",
       "      <th>peak_rpm</th>\n",
       "      <th>city_mpg</th>\n",
       "      <th>highway_mpg</th>\n",
       "      <th>price</th>\n",
       "    </tr>\n",
       "  </thead>\n",
       "  <tbody>\n",
       "    <tr>\n",
       "      <th>0</th>\n",
       "      <td>3</td>\n",
       "      <td>168</td>\n",
       "      <td>alfa-romero</td>\n",
       "      <td>gas</td>\n",
       "      <td>std</td>\n",
       "      <td>two</td>\n",
       "      <td>convertible</td>\n",
       "      <td>rwd</td>\n",
       "      <td>front</td>\n",
       "      <td>88.6</td>\n",
       "      <td>...</td>\n",
       "      <td>130</td>\n",
       "      <td>mpfi</td>\n",
       "      <td>3.47</td>\n",
       "      <td>2.68</td>\n",
       "      <td>9.0</td>\n",
       "      <td>111</td>\n",
       "      <td>5000</td>\n",
       "      <td>21</td>\n",
       "      <td>27</td>\n",
       "      <td>13495</td>\n",
       "    </tr>\n",
       "    <tr>\n",
       "      <th>1</th>\n",
       "      <td>3</td>\n",
       "      <td>168</td>\n",
       "      <td>alfa-romero</td>\n",
       "      <td>gas</td>\n",
       "      <td>std</td>\n",
       "      <td>two</td>\n",
       "      <td>convertible</td>\n",
       "      <td>rwd</td>\n",
       "      <td>front</td>\n",
       "      <td>88.6</td>\n",
       "      <td>...</td>\n",
       "      <td>130</td>\n",
       "      <td>mpfi</td>\n",
       "      <td>3.47</td>\n",
       "      <td>2.68</td>\n",
       "      <td>9.0</td>\n",
       "      <td>111</td>\n",
       "      <td>5000</td>\n",
       "      <td>21</td>\n",
       "      <td>27</td>\n",
       "      <td>16500</td>\n",
       "    </tr>\n",
       "    <tr>\n",
       "      <th>2</th>\n",
       "      <td>1</td>\n",
       "      <td>168</td>\n",
       "      <td>alfa-romero</td>\n",
       "      <td>gas</td>\n",
       "      <td>std</td>\n",
       "      <td>two</td>\n",
       "      <td>hatchback</td>\n",
       "      <td>rwd</td>\n",
       "      <td>front</td>\n",
       "      <td>94.5</td>\n",
       "      <td>...</td>\n",
       "      <td>152</td>\n",
       "      <td>mpfi</td>\n",
       "      <td>2.68</td>\n",
       "      <td>3.47</td>\n",
       "      <td>9.0</td>\n",
       "      <td>154</td>\n",
       "      <td>5000</td>\n",
       "      <td>19</td>\n",
       "      <td>26</td>\n",
       "      <td>16500</td>\n",
       "    </tr>\n",
       "    <tr>\n",
       "      <th>3</th>\n",
       "      <td>2</td>\n",
       "      <td>164</td>\n",
       "      <td>audi</td>\n",
       "      <td>gas</td>\n",
       "      <td>std</td>\n",
       "      <td>four</td>\n",
       "      <td>sedan</td>\n",
       "      <td>fwd</td>\n",
       "      <td>front</td>\n",
       "      <td>99.8</td>\n",
       "      <td>...</td>\n",
       "      <td>109</td>\n",
       "      <td>mpfi</td>\n",
       "      <td>3.19</td>\n",
       "      <td>3.40</td>\n",
       "      <td>10.0</td>\n",
       "      <td>102</td>\n",
       "      <td>5500</td>\n",
       "      <td>24</td>\n",
       "      <td>30</td>\n",
       "      <td>13950</td>\n",
       "    </tr>\n",
       "    <tr>\n",
       "      <th>4</th>\n",
       "      <td>2</td>\n",
       "      <td>164</td>\n",
       "      <td>audi</td>\n",
       "      <td>gas</td>\n",
       "      <td>std</td>\n",
       "      <td>four</td>\n",
       "      <td>sedan</td>\n",
       "      <td>4wd</td>\n",
       "      <td>front</td>\n",
       "      <td>99.4</td>\n",
       "      <td>...</td>\n",
       "      <td>136</td>\n",
       "      <td>mpfi</td>\n",
       "      <td>3.19</td>\n",
       "      <td>3.40</td>\n",
       "      <td>8.0</td>\n",
       "      <td>115</td>\n",
       "      <td>5500</td>\n",
       "      <td>18</td>\n",
       "      <td>22</td>\n",
       "      <td>17450</td>\n",
       "    </tr>\n",
       "  </tbody>\n",
       "</table>\n",
       "<p>5 rows × 26 columns</p>\n",
       "</div>"
      ],
      "text/plain": [
       "   symboling  normalized_losses         make fuel_type aspiration  \\\n",
       "0          3                168  alfa-romero       gas        std   \n",
       "1          3                168  alfa-romero       gas        std   \n",
       "2          1                168  alfa-romero       gas        std   \n",
       "3          2                164         audi       gas        std   \n",
       "4          2                164         audi       gas        std   \n",
       "\n",
       "  number_of_doors   body_style drive_wheels engine_location  wheel_base  ...  \\\n",
       "0             two  convertible          rwd           front        88.6  ...   \n",
       "1             two  convertible          rwd           front        88.6  ...   \n",
       "2             two    hatchback          rwd           front        94.5  ...   \n",
       "3            four        sedan          fwd           front        99.8  ...   \n",
       "4            four        sedan          4wd           front        99.4  ...   \n",
       "\n",
       "   engine_size  fuel_system  bore  stroke compression_ratio horsepower  \\\n",
       "0          130         mpfi  3.47    2.68               9.0        111   \n",
       "1          130         mpfi  3.47    2.68               9.0        111   \n",
       "2          152         mpfi  2.68    3.47               9.0        154   \n",
       "3          109         mpfi  3.19    3.40              10.0        102   \n",
       "4          136         mpfi  3.19    3.40               8.0        115   \n",
       "\n",
       "   peak_rpm city_mpg  highway_mpg  price  \n",
       "0      5000       21           27  13495  \n",
       "1      5000       21           27  16500  \n",
       "2      5000       19           26  16500  \n",
       "3      5500       24           30  13950  \n",
       "4      5500       18           22  17450  \n",
       "\n",
       "[5 rows x 26 columns]"
      ]
     },
     "execution_count": 3,
     "metadata": {},
     "output_type": "execute_result"
    }
   ],
   "source": [
    "auto.head()"
   ]
  },
  {
   "cell_type": "code",
   "execution_count": 4,
   "id": "ee55938f",
   "metadata": {},
   "outputs": [
    {
     "data": {
      "text/plain": [
       "(201, 26)"
      ]
     },
     "execution_count": 4,
     "metadata": {},
     "output_type": "execute_result"
    }
   ],
   "source": [
    "auto.shape"
   ]
  },
  {
   "cell_type": "markdown",
   "id": "50db527d",
   "metadata": {},
   "source": [
    "#### Only Numerical Variable Analysis"
   ]
  },
  {
   "cell_type": "markdown",
   "id": "df9be1b9",
   "metadata": {},
   "source": [
    "#### Univariate Analysis\n",
    "\n",
    "- As name says uni means single and variate means here variable analysis.\n",
    "- Trying to get some pattern in single variable analysis - by plotting statistics/ distribution etc."
   ]
  },
  {
   "cell_type": "markdown",
   "id": "00bbf09a",
   "metadata": {},
   "source": [
    "##### distplot \n",
    "\n",
    "- works only with numerical data\n",
    "- This function combines the matplotlib ``hist`` function (with automatic calculation of a good default bin size) with the seaborn:func:`kdeplot` and :func:`rugplot` functions. It can also fit ``scipy.stats`` distributions and plot the estimated PDF over the data.\n",
    "\n",
    "    >>> ax = sns.distplot(x, rug=True, rug_kws={\"color\": \"g\"},\n",
    "    ...                   kde_kws={\"color\": \"k\", \"lw\": 3, \"label\": \"KDE\"},\n",
    "    ...                   hist_kws={\"histtype\": \"step\", \"linewidth\": 3,\n",
    "    ...                             \"alpha\": 1, \"color\": \"g\"})\n",
    "    \n",
    "##### See Also\n",
    "\n",
    "- kdeplot : Show a univariate or bivariate distribution with a kernel density estimate.\n",
    "- rugplot : Draw small vertical lines to show each observation in a distribution."
   ]
  },
  {
   "cell_type": "code",
   "execution_count": 5,
   "id": "995750ee",
   "metadata": {
    "scrolled": false
   },
   "outputs": [
    {
     "name": "stderr",
     "output_type": "stream",
     "text": [
      "C:\\Users\\mahesh.sharma\\Anaconda3\\lib\\site-packages\\seaborn\\distributions.py:2557: FutureWarning: `distplot` is a deprecated function and will be removed in a future version. Please adapt your code to use either `displot` (a figure-level function with similar flexibility) or `histplot` (an axes-level function for histograms).\n",
      "  warnings.warn(msg, FutureWarning)\n"
     ]
    },
    {
     "data": {
      "image/png": "[encoded data removed]",
      "text/plain": [
       "<Figure size 432x288 with 1 Axes>"
      ]
     },
     "metadata": {},
     "output_type": "display_data"
    }
   ],
   "source": [
    "sns.distplot(auto['normalized_losses']) # it includes kernal density line \n",
    "plt.show()"
   ]
  },
  {
   "cell_type": "code",
   "execution_count": 6,
   "id": "0bb41850",
   "metadata": {},
   "outputs": [
    {
     "name": "stderr",
     "output_type": "stream",
     "text": [
      "C:\\Users\\mahesh.sharma\\Anaconda3\\lib\\site-packages\\seaborn\\distributions.py:2557: FutureWarning: `distplot` is a deprecated function and will be removed in a future version. Please adapt your code to use either `displot` (a figure-level function with similar flexibility) or `histplot` (an axes-level function for histograms).\n",
      "  warnings.warn(msg, FutureWarning)\n",
      "C:\\Users\\mahesh.sharma\\Anaconda3\\lib\\site-packages\\seaborn\\distributions.py:2056: FutureWarning: The `axis` variable is no longer used and will be removed. Instead, assign variables directly to `x` or `y`.\n",
      "  warnings.warn(msg, FutureWarning)\n"
     ]
    },
    {
     "data": {
      "image/png": "[encoded data removed]",
      "text/plain": [
       "<Figure size 432x288 with 1 Axes>"
      ]
     },
     "metadata": {},
     "output_type": "display_data"
    }
   ],
   "source": [
    "# remove kernal density trend lines\n",
    "sns.distplot(auto['normalized_losses'], kde=False, rug=True) # here we are removing kde line and include freq count with rug \n",
    "plt.show()"
   ]
  },
  {
   "cell_type": "markdown",
   "id": "c9de17b6",
   "metadata": {},
   "source": [
    "##### displot\n",
    "\n",
    "This function provides access to several approaches for visualizing the univariate or bivariate distribution of data, including subsets of data defined by semantic mapping and faceting across multiple subplots. The ``kind`` parameter selects the approach to use:\n",
    "\n",
    "- :func:`histplot` (with ``kind=\"hist\"``; the default)\n",
    "- :func:`kdeplot` (with ``kind=\"kde\"``)\n",
    "- :func:`ecdfplot` (with ``kind=\"ecdf\"``; univariate-only)\n",
    "\n",
    "Additionally, a :func:`rugplot` can be added to any kind of plot to show\n",
    "individual observations."
   ]
  },
  {
   "cell_type": "code",
   "execution_count": 7,
   "id": "306d0691",
   "metadata": {},
   "outputs": [
    {
     "data": {
      "image/png": "[encoded data removed]",
      "text/plain": [
       "<Figure size 360x360 with 1 Axes>"
      ]
     },
     "metadata": {},
     "output_type": "display_data"
    }
   ],
   "source": [
    "# Plot a Histogram using displot \n",
    "sns.displot(auto['normalized_losses'], rug=True)\n",
    "plt.show() # we need to use plt as seaborn is based out of matplotlib"
   ]
  },
  {
   "cell_type": "markdown",
   "id": "c1b7d541",
   "metadata": {},
   "source": [
    "#### Bivariate Analysis\n",
    "\n",
    "- As words says Bi means two and variate here means variable analysis.\n",
    "- Trying to get relationship or identifying underlying pattern between the two variables"
   ]
  },
  {
   "cell_type": "markdown",
   "id": "df8a14cd",
   "metadata": {},
   "source": [
    "##### Jointplot\n",
    "\n",
    "This function provides a convenient interface to the :class:`JointGrid`\n",
    "class, with several canned plot kinds. This is intended to be a fairly\n",
    "lightweight wrapper; if you need more flexibility, you should use\n",
    ":class:`JointGrid` directly.\n",
    "\n",
    "##### Parameters\n",
    "- x, y : vectors or keys in ``data``\n",
    "    Variables that specify positions on the x and y axes.\n",
    "- data : :class:`pandas.DataFrame`, :class:`numpy.ndarray`, mapping, or sequence\n",
    "    Input data structure. Either a long-form collection of vectors that can be\n",
    "    assigned to named variables or a wide-form dataset that will be internally\n",
    "    reshaped.\n",
    "- kind : { \"scatter\" | \"kde\" | \"hist\" | \"hex\" | \"reg\" | \"resid\" }\n",
    "    Kind of plot to draw. See the examples for references to the underlying functions.\n",
    "- color : :mod:`matplotlib color <matplotlib.colors>`\n",
    "    Single color specification for when hue mapping is not used. Otherwise, the\n",
    "    plot will try to hook into the matplotlib property cycle.\n",
    "- height : numeric\n",
    "    Size of the figure (it will be square).\n",
    "- ratio : numeric\n",
    "    Ratio of joint axes height to marginal axes height.\n",
    "- space : numeric\n",
    "    Space between the joint and marginal axes\n",
    "- dropna : bool\n",
    "    If True, remove observations that are missing from ``x`` and ``y``.\n",
    "- {x, y}lim : pairs of numbers\n",
    "    Axis limits to set before plotting.\n",
    "- marginal_ticks : bool\n",
    "    If False, suppress ticks on the count/density axis of the marginal plots.\n",
    "- {joint, marginal}_kws : dicts\n",
    "    Additional keyword arguments for the plot components.\n",
    "- hue : vector or key in ``data``\n",
    "    Semantic variable that is mapped to determine the color of plot elements.\n",
    "    Semantic variable that is mapped to determine the color of plot elements.\n",
    "- palette : string, list, dict, or :class:`matplotlib.colors.Colormap`\n",
    "    Method for choosing the colors to use when mapping the ``hue`` semantic.\n",
    "    String values are passed to :func:`color_palette`. List or dict values\n",
    "    imply categorical mapping, while a colormap object implies numeric mapping.\n",
    "- hue_order : vector of strings\n",
    "    Specify the order of processing and plotting for categorical levels of the\n",
    "    ``hue`` semantic.\n",
    "- hue_norm : tuple or :class:`matplotlib.colors.Normalize`\n",
    "    Either a pair of values that set the normalization range in data units\n",
    "    or an object that will map from data units into a [0, 1] interval. Usage\n",
    "    implies numeric mapping.\n",
    "- kwargs\n",
    "    Additional keyword arguments are passed to the function used to\n",
    "    draw the plot on the joint"
   ]
  },
  {
   "cell_type": "code",
   "execution_count": null,
   "id": "7c69b0ae",
   "metadata": {
    "scrolled": false
   },
   "outputs": [],
   "source": [
    "# scatter plot \n",
    "\n",
    "\n",
    "sns.jointplot(auto['engine_size'],auto['horsepower'])\n",
    "plt.show()"
   ]
  },
  {
   "cell_type": "code",
   "execution_count": null,
   "id": "d6c62d3d",
   "metadata": {},
   "outputs": [],
   "source": [
    "# \"hex\" plot\n",
    "sns.jointplot(auto['engine_size'],auto['horsepower'], kind=\"hex\")\n",
    "plt.show()"
   ]
  },
  {
   "cell_type": "code",
   "execution_count": null,
   "id": "5ff3b6e5",
   "metadata": {},
   "outputs": [],
   "source": [
    "# kde plot \n",
    "sns.jointplot(auto['engine_size'],auto['horsepower'], kind='kde')"
   ]
  },
  {
   "cell_type": "code",
   "execution_count": null,
   "id": "2937c1b5",
   "metadata": {
    "scrolled": false
   },
   "outputs": [],
   "source": [
    "# hist plot \n",
    "sns.jointplot(auto['engine_size'],auto['horsepower'], kind='hist')"
   ]
  },
  {
   "cell_type": "code",
   "execution_count": null,
   "id": "3623931f",
   "metadata": {},
   "outputs": [],
   "source": [
    "# regression plot \n",
    "sns.jointplot(auto['engine_size'],auto['horsepower'], kind='reg')"
   ]
  },
  {
   "cell_type": "code",
   "execution_count": null,
   "id": "bc3ca19f",
   "metadata": {},
   "outputs": [],
   "source": [
    "# residual plot \n",
    "sns.jointplot(auto['engine_size'],auto['horsepower'], kind='resid')"
   ]
  },
  {
   "cell_type": "markdown",
   "id": "761a6088",
   "metadata": {},
   "source": [
    "#### Multivariate Analysis\n",
    "\n",
    "- As name says multi means more than one and variable here means variable analysis\n",
    "- Helps to understand underlying relationship or pattern between the multiple variable"
   ]
  },
  {
   "cell_type": "markdown",
   "id": "52a4f196",
   "metadata": {},
   "source": [
    "##### Pairplot"
   ]
  },
  {
   "cell_type": "code",
   "execution_count": null,
   "id": "35e6f0c5",
   "metadata": {
    "scrolled": false
   },
   "outputs": [],
   "source": [
    "sns.pairplot(auto[['normalized_losses','engine_size','horsepower']])"
   ]
  },
  {
   "cell_type": "markdown",
   "id": "ccb7d8c1",
   "metadata": {},
   "source": [
    "#### One Categorical and One Numerical Variable Analysis Together"
   ]
  },
  {
   "cell_type": "markdown",
   "id": "faa3c047",
   "metadata": {},
   "source": [
    "##### stripplot \n",
    "- help to get distribution of numerical variable to its categorical variable in jitter of points "
   ]
  },
  {
   "cell_type": "code",
   "execution_count": null,
   "id": "552add4c",
   "metadata": {
    "scrolled": false
   },
   "outputs": [],
   "source": [
    "sns.stripplot(auto['fuel_type'],auto['horsepower'])"
   ]
  },
  {
   "cell_type": "markdown",
   "id": "dd704546",
   "metadata": {},
   "source": [
    "##### swarmplot \n",
    "- It used to show the each points not overlapped to each other "
   ]
  },
  {
   "cell_type": "code",
   "execution_count": null,
   "id": "4e167729",
   "metadata": {},
   "outputs": [],
   "source": [
    "sns.swarmplot(auto['fuel_type'],auto['horsepower'])"
   ]
  },
  {
   "cell_type": "markdown",
   "id": "36ba711c",
   "metadata": {},
   "source": [
    "##### boxplot \n",
    "- it helps us to understand the distribution of data by showing min, max, 25%,50%,75%  and outlier of data against \n",
    "the categorical variables "
   ]
  },
  {
   "cell_type": "code",
   "execution_count": null,
   "id": "c548f3c9",
   "metadata": {},
   "outputs": [],
   "source": [
    "sns.boxplot(auto['number_of_doors'],auto['horsepower'])\n",
    "\n",
    "# below gives horsepower data distribution against two and four doors  "
   ]
  },
  {
   "cell_type": "code",
   "execution_count": null,
   "id": "0774ae4c",
   "metadata": {},
   "outputs": [],
   "source": [
    "sns.boxplot(auto['number_of_doors'],auto['horsepower'] , hue=auto['fuel_type'])\n",
    "\n",
    "# below gives horsepower data distribution of fuel type vehicals against two and four doors  "
   ]
  },
  {
   "cell_type": "markdown",
   "id": "bb8aa0df",
   "metadata": {},
   "source": [
    "##### barplot \n",
    "- Frequency distribution with dispersion of data with confidance interval\n"
   ]
  },
  {
   "cell_type": "code",
   "execution_count": null,
   "id": "430a4c2d",
   "metadata": {
    "scrolled": false
   },
   "outputs": [],
   "source": [
    "sns.barplot(auto['body_style'],auto['horsepower'])"
   ]
  },
  {
   "cell_type": "code",
   "execution_count": null,
   "id": "8c5c1a22",
   "metadata": {},
   "outputs": [],
   "source": [
    "# barplot - Frequency distribution with dispersion of data with confidance interval\n",
    "\n",
    "sns.barplot(auto['body_style'],auto['horsepower'], hue=auto['engine_location'])\n",
    "# horsepower data distribution by front and rear engine location agaist body style of the car "
   ]
  },
  {
   "cell_type": "markdown",
   "id": "3ec8f018",
   "metadata": {},
   "source": [
    "##### countplot \n",
    "- shows the categorical variables frequency distribution "
   ]
  },
  {
   "cell_type": "code",
   "execution_count": null,
   "id": "a1cadd27",
   "metadata": {},
   "outputs": [],
   "source": [
    "sns.countplot(auto['body_style'])\n",
    "plt.show()"
   ]
  },
  {
   "cell_type": "code",
   "execution_count": null,
   "id": "63f35a85",
   "metadata": {
    "scrolled": false
   },
   "outputs": [],
   "source": [
    "sns.countplot(auto['body_style'], hue=auto['engine_location'])\n",
    "\n",
    "# displays the count by front and rear engine location count as well within the body styple type"
   ]
  },
  {
   "cell_type": "markdown",
   "id": "f3fa8501",
   "metadata": {},
   "source": [
    "#### multi-panel categorical plot"
   ]
  },
  {
   "cell_type": "markdown",
   "id": "947c0561",
   "metadata": {},
   "source": [
    "##### factorplot \n",
    "\n",
    "- factorplot() method is used to draw a categorical plot onto a FacetGrid.\n",
    "- Syntax : seaborn.factorplot(x=None, y=None, hue=None, data=None, row=None, col=None, col_wrap=None, estimator=, ci=95, n_boot=1000, units=None, seed=None, order=None, hue_order=None, row_order=None, col_order=None, kind=’strip’, height=5, aspect=1, orient=None, color=None, palette=None, legend=True, legend_out=True, sharex=True, sharey=True, margin_titles=False, facet_kws=None, **kwargs)\n",
    "- x, y : This parameter take names of variables in data, Inputs for plotting long-form data. \n",
    "- hue : (optional)This parameter take column name for colour encoding\n",
    "- kind : (optional) This parameter take string value, The kind of plot to draw (corresponds to the name of a categorical plotting function. Options are: “point”, “bar”, “strip”, “swarm”, “box”, “violin”, or “boxen”."
   ]
  },
  {
   "cell_type": "code",
   "execution_count": null,
   "id": "1437f038",
   "metadata": {},
   "outputs": [],
   "source": [
    "sns.factorplot(x = 'fuel_type',\n",
    "               y = 'horsepower',\n",
    "               hue = 'number_of_doors',\n",
    "              col = 'engine_location',\n",
    "              data = auto,\n",
    "              kind = 'swarm')\n",
    "\n",
    "# below shows column engine location wise different fuel types distribution of two and four doors cars"
   ]
  },
  {
   "cell_type": "code",
   "execution_count": null,
   "id": "4091ee18",
   "metadata": {},
   "outputs": [],
   "source": [
    "sns.factorplot(x = 'fuel_type',\n",
    "               hue = 'number_of_doors',\n",
    "              col = 'engine_location',\n",
    "              data = auto,\n",
    "              kind = 'count')\n",
    "\n",
    "# below shows column engine location wise different fuel types distribution of two and four doors cars"
   ]
  },
  {
   "cell_type": "markdown",
   "id": "cb8cd736",
   "metadata": {},
   "source": [
    "##### linear regression "
   ]
  },
  {
   "cell_type": "code",
   "execution_count": null,
   "id": "503f612a",
   "metadata": {
    "scrolled": false
   },
   "outputs": [],
   "source": [
    "sns.lmplot(x = 'horsepower', y = 'peak_rpm', data = auto)\n",
    "\n",
    "# We can see a best fit linear regression line on the graph which someone nuetral in nature"
   ]
  },
  {
   "cell_type": "code",
   "execution_count": null,
   "id": "e6b2981c",
   "metadata": {},
   "outputs": [],
   "source": [
    "# use hue in linear regression \n",
    "sns.lmplot(x = 'horsepower', y = 'peak_rpm', data = auto, hue='fuel_type')\n",
    "\n",
    "# you can see that there is negative correlatin for diesel vehical that is we peak_rpm increase horsepower decreases\n",
    "# however for gas type fuel type it is still little nuetral "
   ]
  }
 ],
 "metadata": {
  "kernelspec": {
   "display_name": "Python 3",
   "language": "python",
   "name": "python3"
  },
  "language_info": {
   "codemirror_mode": {
    "name": "ipython",
    "version": 3
   },
   "file_extension": ".py",
   "mimetype": "text/x-python",
   "name": "python",
   "nbconvert_exporter": "python",
   "pygments_lexer": "ipython3",
   "version": "3.8.8"
  }
 },
 "nbformat": 4,
 "nbformat_minor": 5
}
