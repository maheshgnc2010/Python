{
 "cells": [
  {
   "cell_type": "markdown",
   "metadata": {},
   "source": [
    "# Python Tutorial"
   ]
  },
  {
   "cell_type": "markdown",
   "metadata": {},
   "source": [
    "### Python First Program"
   ]
  },
  {
   "cell_type": "code",
   "execution_count": 1,
   "metadata": {},
   "outputs": [
    {
     "name": "stdout",
     "output_type": "stream",
     "text": [
      "Hi, I am in Navi Mumbai. DateTime 15-06-2021 11.11 PM\n"
     ]
    }
   ],
   "source": [
    "print(\"Hi, I am in Navi Mumbai. DateTime 15-06-2021 11.11 PM\")"
   ]
  },
  {
   "cell_type": "markdown",
   "metadata": {},
   "source": [
    "### Variables in Python"
   ]
  },
  {
   "cell_type": "code",
   "execution_count": 2,
   "metadata": {},
   "outputs": [],
   "source": [
    "#Data or values can be stored in a temprary storage space called variables.\n",
    "#Variable has a name and a address where the values are stored.\n",
    "#Example.\n",
    "\n",
    "student1 = \"John\""
   ]
  },
  {
   "cell_type": "code",
   "execution_count": 3,
   "metadata": {},
   "outputs": [
    {
     "name": "stdout",
     "output_type": "stream",
     "text": [
      "John\n"
     ]
    }
   ],
   "source": [
    "print(student1)"
   ]
  },
  {
   "cell_type": "code",
   "execution_count": 4,
   "metadata": {},
   "outputs": [
    {
     "name": "stdout",
     "output_type": "stream",
     "text": [
      "Sam\n"
     ]
    }
   ],
   "source": [
    "#A variable can be updated with new variable\n",
    "student1 = \"Sam\"\n",
    "print(student1)"
   ]
  },
  {
   "cell_type": "code",
   "execution_count": 5,
   "metadata": {},
   "outputs": [
    {
     "name": "stdout",
     "output_type": "stream",
     "text": [
      "Ram\n"
     ]
    }
   ],
   "source": [
    "student1 = \"Ram\"\n",
    "print(student1)"
   ]
  },
  {
   "cell_type": "markdown",
   "metadata": {},
   "source": [
    "### Data Types in Python"
   ]
  },
  {
   "cell_type": "markdown",
   "metadata": {},
   "source": [
    "##### Every variable is associated with a data type\n",
    "1. Int - 10, 500, 20001\n",
    "2. Float - 10.20, 34.123, 3.14\n",
    "3. String - \"India\", \"Satya\"\n",
    "4. Boolean - True , False\n",
    "5. Complex - 3 + 4j , 5 - 7j (3  is real, 4j is imaginary part in this complex number)\n",
    "\n",
    "Variable data type depends upon the kind of data stored in the variable"
   ]
  },
  {
   "cell_type": "code",
   "execution_count": 6,
   "metadata": {},
   "outputs": [
    {
     "name": "stdout",
     "output_type": "stream",
     "text": [
      "10\n",
      "<class 'int'>\n"
     ]
    }
   ],
   "source": [
    "a1 = 10\n",
    "print(a1)\n",
    "print(type(a1))"
   ]
  },
  {
   "cell_type": "code",
   "execution_count": 7,
   "metadata": {},
   "outputs": [
    {
     "name": "stdout",
     "output_type": "stream",
     "text": [
      "3.14\n",
      "<class 'float'>\n"
     ]
    }
   ],
   "source": [
    "a1 = 3.14 \n",
    "print(a1)\n",
    "print(type(a1))"
   ]
  },
  {
   "cell_type": "code",
   "execution_count": 8,
   "metadata": {},
   "outputs": [
    {
     "name": "stdout",
     "output_type": "stream",
     "text": [
      "Mumbai\n",
      "<class 'str'>\n"
     ]
    }
   ],
   "source": [
    "a1 = \"Mumbai\"\n",
    "print(a1)\n",
    "print(type(a1))"
   ]
  },
  {
   "cell_type": "code",
   "execution_count": 9,
   "metadata": {},
   "outputs": [
    {
     "name": "stdout",
     "output_type": "stream",
     "text": [
      "True\n",
      "<class 'bool'>\n"
     ]
    }
   ],
   "source": [
    "a1 = True\n",
    "print(a1)\n",
    "print(type(a1))"
   ]
  },
  {
   "cell_type": "code",
   "execution_count": 10,
   "metadata": {},
   "outputs": [
    {
     "name": "stdout",
     "output_type": "stream",
     "text": [
      "(3+4j)\n",
      "<class 'complex'>\n"
     ]
    }
   ],
   "source": [
    "a1 = 3 + 4j\n",
    "print(a1)\n",
    "print(type(a1))"
   ]
  },
  {
   "cell_type": "markdown",
   "metadata": {},
   "source": [
    "### Operator in Python"
   ]
  },
  {
   "cell_type": "markdown",
   "metadata": {},
   "source": [
    "##### With the help of operator, we can apply different kind of operation on the data.\n",
    "1. Arithmatic Operator\n",
    "2. Relational Operator\n",
    "3. Logical Operator"
   ]
  },
  {
   "cell_type": "code",
   "execution_count": 11,
   "metadata": {},
   "outputs": [
    {
     "name": "stdout",
     "output_type": "stream",
     "text": [
      "Print Variables: 10 20\n",
      "Plus Operator: + :  30\n",
      "Minus Operator: - :  -10\n",
      "Division Operator: / :  0.5\n",
      "Multiplication Operator: * :  200\n"
     ]
    }
   ],
   "source": [
    "# Arithmatic Operators: +, -, /, *\n",
    "a1 = 10 \n",
    "b1 = 20 \n",
    "print(\"Print Variables:\",a1,b1)\n",
    "\n",
    "print(\"Plus Operator: + : \",a1+b1)\n",
    "print(\"Minus Operator: - : \",a1-b1)\n",
    "print(\"Division Operator: / : \",a1/b1)\n",
    "print(\"Multiplication Operator: * : \",a1*b1)"
   ]
  },
  {
   "cell_type": "code",
   "execution_count": 12,
   "metadata": {},
   "outputs": [
    {
     "name": "stdout",
     "output_type": "stream",
     "text": [
      "Print Variable 50 100\n",
      "Greater Than Operator: False\n",
      "Less Than Operator: True\n",
      "Equal to Operator: False\n",
      "Not Equal to Operator: True\n"
     ]
    }
   ],
   "source": [
    "# Relation Operator: <, >, ==, !=\n",
    "# Result of Relation Operator is always Boolean\n",
    "\n",
    "a2 = 50 \n",
    "b2 = 100\n",
    "print(\"Print Variable\", a2, b2)\n",
    "\n",
    "print(\"Greater Than Operator:\", a2>b2)\n",
    "print(\"Less Than Operator:\", a2<b2)\n",
    "print(\"Equal to Operator:\", a2==b2)\n",
    "print(\"Not Equal to Operator:\", a2!=b2)"
   ]
  },
  {
   "cell_type": "code",
   "execution_count": 13,
   "metadata": {},
   "outputs": [
    {
     "name": "stdout",
     "output_type": "stream",
     "text": [
      "Print Variable True False\n",
      "And Operator &:  False\n",
      "Or Operator |:  True\n"
     ]
    }
   ],
   "source": [
    "# Logical Operator: &, |\n",
    "a3 = True\n",
    "b3 = False\n",
    "print(\"Print Variable\", a3 , b3)\n",
    "\n",
    "print(\"And Operator &: \", a3 & b3) # If both variable will be true then output will be true else false\n",
    "print(\"Or Operator |: \", a3 | b3) # If any of the variable is true then output will be true else false"
   ]
  },
  {
   "cell_type": "markdown",
   "metadata": {},
   "source": [
    "### Python Token"
   ]
  },
  {
   "cell_type": "markdown",
   "metadata": {},
   "source": [
    "##### They are the smallest meaningful component in python \n",
    "1. Keywords\n",
    "2. Operators\n",
    "3. Identifiers\n",
    "4. Literals"
   ]
  },
  {
   "cell_type": "code",
   "execution_count": 14,
   "metadata": {},
   "outputs": [
    {
     "data": {
      "text/plain": [
       "'\\nKeywords - They are the special reserved word in python. You can not use them declare variable, class or methods.\\nExample\\nTrue\\nfor \\ndef\\nWhile\\nas\\nreturn\\ntry\\n'"
      ]
     },
     "execution_count": 14,
     "metadata": {},
     "output_type": "execute_result"
    }
   ],
   "source": [
    "'''\n",
    "Keywords - They are the special reserved word in python. You can not use them declare variable, class or methods.\n",
    "Example\n",
    "True\n",
    "for \n",
    "def\n",
    "While\n",
    "as\n",
    "return\n",
    "try\n",
    "'''"
   ]
  },
  {
   "cell_type": "code",
   "execution_count": 15,
   "metadata": {},
   "outputs": [],
   "source": [
    "# Identifier: Used as names of variables, functions or objects\n",
    "# Rules - no special character can be used other than _. They are case sensitive. First letter can not be digit."
   ]
  },
  {
   "cell_type": "code",
   "execution_count": 16,
   "metadata": {},
   "outputs": [
    {
     "name": "stdout",
     "output_type": "stream",
     "text": [
      "10.2\n"
     ]
    }
   ],
   "source": [
    "# Literals - They are constants in python that do not change. Values which are stored in a variable are nothing but literal\n",
    "# Exmaple\n",
    "\n",
    "a4 = 10.20\n",
    "print(a4)"
   ]
  },
  {
   "cell_type": "markdown",
   "metadata": {},
   "source": [
    "### Python String"
   ]
  },
  {
   "cell_type": "code",
   "execution_count": 17,
   "metadata": {},
   "outputs": [],
   "source": [
    "# String are the sequence of characters enclosed in single, double and triple quotes('',\"\",'\"\"')\n",
    "# When it is required to write multiline string triple quote strings are used"
   ]
  },
  {
   "cell_type": "code",
   "execution_count": 18,
   "metadata": {},
   "outputs": [
    {
     "name": "stdout",
     "output_type": "stream",
     "text": [
      "Hello Navi Mumbai\n"
     ]
    }
   ],
   "source": [
    "print('Hello Navi Mumbai')"
   ]
  },
  {
   "cell_type": "code",
   "execution_count": 19,
   "metadata": {},
   "outputs": [
    {
     "name": "stdout",
     "output_type": "stream",
     "text": [
      "Hello Mumbai\n"
     ]
    }
   ],
   "source": [
    "print(\"Hello Mumbai\")"
   ]
  },
  {
   "cell_type": "code",
   "execution_count": 20,
   "metadata": {},
   "outputs": [
    {
     "name": "stdout",
     "output_type": "stream",
     "text": [
      "Hello Mumbai. \n",
      "Hello Navi Mumbai\n"
     ]
    }
   ],
   "source": [
    "print('''Hello Mumbai. \n",
    "Hello Navi Mumbai''') # multiline string"
   ]
  },
  {
   "cell_type": "code",
   "execution_count": 21,
   "metadata": {},
   "outputs": [],
   "source": [
    "# Extracting String From the String "
   ]
  },
  {
   "cell_type": "code",
   "execution_count": 22,
   "metadata": {},
   "outputs": [],
   "source": [
    "str1 = 'My name is Mahesh Satyanarayan Sharma'"
   ]
  },
  {
   "cell_type": "code",
   "execution_count": 23,
   "metadata": {},
   "outputs": [
    {
     "data": {
      "text/plain": [
       "'My name is Mahesh Satyanarayan Sharma'"
      ]
     },
     "execution_count": 23,
     "metadata": {},
     "output_type": "execute_result"
    }
   ],
   "source": [
    "str1"
   ]
  },
  {
   "cell_type": "code",
   "execution_count": 24,
   "metadata": {},
   "outputs": [
    {
     "name": "stdout",
     "output_type": "stream",
     "text": [
      "M\n",
      "y\n"
     ]
    }
   ],
   "source": [
    "# Extracting String Using Index\n",
    "# Python index start with 0 \n",
    "\n",
    "print(str1[0]) # First Index\n",
    "print(str1[1]) # Second position character in a string"
   ]
  },
  {
   "cell_type": "code",
   "execution_count": 25,
   "metadata": {},
   "outputs": [
    {
     "data": {
      "text/plain": [
       "'a'"
      ]
     },
     "execution_count": 25,
     "metadata": {},
     "output_type": "execute_result"
    }
   ],
   "source": [
    "str1[-1] # Last Index"
   ]
  },
  {
   "cell_type": "code",
   "execution_count": 26,
   "metadata": {},
   "outputs": [
    {
     "name": "stdout",
     "output_type": "stream",
     "text": [
      "m\n",
      "a\n"
     ]
    }
   ],
   "source": [
    "# This gives second last index position character\n",
    "print(str1[len(str1)-2])\n",
    "print(str1[len(str1)-1])"
   ]
  },
  {
   "cell_type": "code",
   "execution_count": 27,
   "metadata": {
    "scrolled": true
   },
   "outputs": [
    {
     "name": "stdout",
     "output_type": "stream",
     "text": [
      "M\n",
      "y\n",
      " \n",
      "n\n",
      "a\n",
      "m\n",
      "e\n",
      " \n",
      "i\n",
      "s\n",
      " \n",
      "M\n",
      "a\n",
      "h\n",
      "e\n",
      "s\n",
      "h\n",
      " \n",
      "S\n",
      "a\n",
      "t\n",
      "y\n",
      "a\n",
      "n\n",
      "a\n",
      "r\n",
      "a\n",
      "y\n",
      "a\n",
      "n\n",
      " \n",
      "S\n",
      "h\n",
      "a\n",
      "r\n",
      "m\n",
      "a\n"
     ]
    }
   ],
   "source": [
    "# printing my name verically\n",
    "for i in range(0,(len(str1))):\n",
    "    print(str1[i])"
   ]
  },
  {
   "cell_type": "code",
   "execution_count": 28,
   "metadata": {},
   "outputs": [],
   "source": [
    "# String Operation/ Functions"
   ]
  },
  {
   "cell_type": "code",
   "execution_count": 29,
   "metadata": {},
   "outputs": [
    {
     "name": "stdout",
     "output_type": "stream",
     "text": [
      "My name is Mahesh Satyanarayan Sharma\n",
      "Length of mu string is 37\n"
     ]
    }
   ],
   "source": [
    "# finding length of my string\n",
    "print(str1)\n",
    "print('Length of mu string is',len(str1))"
   ]
  },
  {
   "cell_type": "code",
   "execution_count": 30,
   "metadata": {},
   "outputs": [
    {
     "data": {
      "text/plain": [
       "'my name is mahesh satyanarayan sharma'"
      ]
     },
     "execution_count": 30,
     "metadata": {},
     "output_type": "execute_result"
    }
   ],
   "source": [
    "# Converting my string in lower case\n",
    "str1.lower()"
   ]
  },
  {
   "cell_type": "code",
   "execution_count": 31,
   "metadata": {},
   "outputs": [
    {
     "data": {
      "text/plain": [
       "'MY NAME IS MAHESH SATYANARAYAN SHARMA'"
      ]
     },
     "execution_count": 31,
     "metadata": {},
     "output_type": "execute_result"
    }
   ],
   "source": [
    "# Converting my string to upper case\n",
    "str1.upper()"
   ]
  },
  {
   "cell_type": "code",
   "execution_count": 32,
   "metadata": {},
   "outputs": [
    {
     "name": "stdout",
     "output_type": "stream",
     "text": [
      "My name is Mahesh Satyanarayan Sharma\n"
     ]
    }
   ],
   "source": [
    "# Replace new value with old value in string\n",
    "print(str1)\n",
    "\n",
    "#Replace y with e\n",
    "# syntax --> string.replace('old value', 'new value')\n",
    "str2 = str1.replace('y','e')"
   ]
  },
  {
   "cell_type": "code",
   "execution_count": 33,
   "metadata": {},
   "outputs": [
    {
     "name": "stdout",
     "output_type": "stream",
     "text": [
      "My name is Mahesh Satyanarayan Sharma\n",
      "Me name is Mahesh Sateanaraean Sharma\n"
     ]
    }
   ],
   "source": [
    "print(str1)\n",
    "print(str2)"
   ]
  },
  {
   "cell_type": "code",
   "execution_count": 34,
   "metadata": {},
   "outputs": [
    {
     "name": "stdout",
     "output_type": "stream",
     "text": [
      "9\n",
      "5\n"
     ]
    }
   ],
   "source": [
    "# Find the occurance of any value in a string\n",
    "print(str1.count('a'))\n",
    "print(str2.count('e'))"
   ]
  },
  {
   "cell_type": "code",
   "execution_count": 35,
   "metadata": {},
   "outputs": [
    {
     "name": "stdout",
     "output_type": "stream",
     "text": [
      "31\n",
      "3\n",
      "0\n"
     ]
    }
   ],
   "source": [
    "# Finding out the index of an string\n",
    "\n",
    "# This given me start index of the words in the string\n",
    "print(str1.find('Sharma')) \n",
    "\n",
    "# Substrings - First Characters Index Value\n",
    "print(str1.find('name'))\n",
    "\n",
    "# you can also find index position of a characters first occurance\n",
    "print(str1.find('M'))"
   ]
  },
  {
   "cell_type": "code",
   "execution_count": 36,
   "metadata": {},
   "outputs": [],
   "source": [
    "# Splitting of String into different part/List values\n",
    "str3 = \"Hello, My name is Mahesh, Age 30, Living in Mumbai\""
   ]
  },
  {
   "cell_type": "code",
   "execution_count": 37,
   "metadata": {},
   "outputs": [
    {
     "data": {
      "text/plain": [
       "'Hello, My name is Mahesh, Age 30, Living in Mumbai'"
      ]
     },
     "execution_count": 37,
     "metadata": {},
     "output_type": "execute_result"
    }
   ],
   "source": [
    "str3"
   ]
  },
  {
   "cell_type": "code",
   "execution_count": 38,
   "metadata": {},
   "outputs": [
    {
     "data": {
      "text/plain": [
       "['Hello', ' My name is Mahesh', ' Age 30', ' Living in Mumbai']"
      ]
     },
     "execution_count": 38,
     "metadata": {},
     "output_type": "execute_result"
    }
   ],
   "source": [
    "# Spliting string by comma ','\n",
    "str3.split(',') "
   ]
  },
  {
   "cell_type": "code",
   "execution_count": 39,
   "metadata": {},
   "outputs": [
    {
     "name": "stdout",
     "output_type": "stream",
     "text": [
      "['My name ', ' Mahesh ', ' Age 31 ', ' Mumbai']\n"
     ]
    }
   ],
   "source": [
    "str4 = 'My name - Mahesh - Age 31 - Mumbai' \n",
    "print(str4.split('-')) # This will split this entire string by hypen '-'"
   ]
  },
  {
   "cell_type": "code",
   "execution_count": 40,
   "metadata": {},
   "outputs": [],
   "source": [
    "str5 = str4.split('-')"
   ]
  },
  {
   "cell_type": "code",
   "execution_count": 41,
   "metadata": {},
   "outputs": [
    {
     "data": {
      "text/plain": [
       "['My name ', ' Mahesh ', ' Age 31 ', ' Mumbai']"
      ]
     },
     "execution_count": 41,
     "metadata": {},
     "output_type": "execute_result"
    }
   ],
   "source": [
    "str5"
   ]
  },
  {
   "cell_type": "markdown",
   "metadata": {},
   "source": [
    "### Data Structure in Python"
   ]
  },
  {
   "cell_type": "markdown",
   "metadata": {},
   "source": [
    "##### There are mainly four data structure in Python\n",
    "1. List\n",
    "2. Tuple\n",
    "3. Set\n",
    "4. Dictionary\n",
    "\n",
    "##### The above data structures are used when there is need to stored many heterogeneous elements together"
   ]
  },
  {
   "cell_type": "markdown",
   "metadata": {},
   "source": [
    "#### Tuple()\n",
    "\n",
    "1. Tuple is an ordered collection of elements enclosed within ()\n",
    "2. Tuples are immutable in nature i.e. once created can not be modified, you have to recreate them"
   ]
  },
  {
   "cell_type": "code",
   "execution_count": 42,
   "metadata": {},
   "outputs": [],
   "source": [
    "# example\n",
    "tuple1 = (1, True, 3.14, 5 + 3j)"
   ]
  },
  {
   "cell_type": "code",
   "execution_count": 43,
   "metadata": {},
   "outputs": [
    {
     "data": {
      "text/plain": [
       "(1, True, 3.14, (5+3j))"
      ]
     },
     "execution_count": 43,
     "metadata": {},
     "output_type": "execute_result"
    }
   ],
   "source": [
    "tuple1"
   ]
  },
  {
   "cell_type": "code",
   "execution_count": 44,
   "metadata": {},
   "outputs": [
    {
     "data": {
      "text/plain": [
       "tuple"
      ]
     },
     "execution_count": 44,
     "metadata": {},
     "output_type": "execute_result"
    }
   ],
   "source": [
    "type(tuple1)"
   ]
  },
  {
   "cell_type": "code",
   "execution_count": 45,
   "metadata": {},
   "outputs": [
    {
     "name": "stdout",
     "output_type": "stream",
     "text": [
      "1\n",
      "3.14\n",
      "(5+3j)\n"
     ]
    }
   ],
   "source": [
    "#Extracting elements from tuple using index position\n",
    "print(tuple1[0])\n",
    "print(tuple1[2])\n",
    "print(tuple1[-1])"
   ]
  },
  {
   "cell_type": "code",
   "execution_count": 46,
   "metadata": {},
   "outputs": [
    {
     "name": "stdout",
     "output_type": "stream",
     "text": [
      "(3.14,)\n"
     ]
    }
   ],
   "source": [
    "# extracting sequence of elements from tuple \n",
    "print(tuple1[2:3]) #start index included and end index postition excluded"
   ]
  },
  {
   "cell_type": "code",
   "execution_count": 47,
   "metadata": {},
   "outputs": [
    {
     "name": "stdout",
     "output_type": "stream",
     "text": [
      "(1, True, 3.14)\n"
     ]
    }
   ],
   "source": [
    "print(tuple1[0:3]) #(start included which is 0 and 1 position, 2 position include however 3 position exclued)"
   ]
  },
  {
   "cell_type": "code",
   "execution_count": 48,
   "metadata": {},
   "outputs": [
    {
     "data": {
      "text/plain": [
       "' \\ntuple1[2]=\"Nerul\"\\n'"
      ]
     },
     "execution_count": 48,
     "metadata": {},
     "output_type": "execute_result"
    }
   ],
   "source": [
    "# modification - you can not modify tuple once created \n",
    "# example - tuple doesnt support assigment. i.e. it cannot be modified\n",
    "''' \n",
    "tuple1[2]=\"Nerul\"\n",
    "'''"
   ]
  },
  {
   "cell_type": "code",
   "execution_count": 49,
   "metadata": {},
   "outputs": [
    {
     "name": "stdout",
     "output_type": "stream",
     "text": [
      "(1, True, 3.14, (5+3j))\n",
      "('ABC', 300, 2.1)\n"
     ]
    }
   ],
   "source": [
    "# concatnating tuple \n",
    "print(tuple1)\n",
    "tuple2 = (\"ABC\", 300, 2.1)\n",
    "print(tuple2)"
   ]
  },
  {
   "cell_type": "code",
   "execution_count": 50,
   "metadata": {},
   "outputs": [],
   "source": [
    "tuple3  = tuple1 + tuple2"
   ]
  },
  {
   "cell_type": "code",
   "execution_count": 51,
   "metadata": {},
   "outputs": [
    {
     "data": {
      "text/plain": [
       "(1, True, 3.14, (5+3j), 'ABC', 300, 2.1)"
      ]
     },
     "execution_count": 51,
     "metadata": {},
     "output_type": "execute_result"
    }
   ],
   "source": [
    "tuple3"
   ]
  },
  {
   "cell_type": "code",
   "execution_count": 52,
   "metadata": {},
   "outputs": [
    {
     "data": {
      "text/plain": [
       "7"
      ]
     },
     "execution_count": 52,
     "metadata": {},
     "output_type": "execute_result"
    }
   ],
   "source": [
    "# find length of a tuple \n",
    "len(tuple3)"
   ]
  },
  {
   "cell_type": "code",
   "execution_count": 53,
   "metadata": {},
   "outputs": [
    {
     "name": "stdout",
     "output_type": "stream",
     "text": [
      "(21, 2, 1989)\n",
      "(21, 2, 1989, 21, 2, 1989)\n"
     ]
    }
   ],
   "source": [
    "# Tuple Basic Operations \n",
    "# Repeating tuple elements\n",
    "tuple4 = (21,2,1989)\n",
    "print(tuple4)\n",
    "print(tuple4*2) # repeating tuple using * sign "
   ]
  },
  {
   "cell_type": "code",
   "execution_count": 54,
   "metadata": {},
   "outputs": [
    {
     "name": "stdout",
     "output_type": "stream",
     "text": [
      "(21, 2, 1989, 21, 2, 1989, 21, 2, 1989)\n"
     ]
    }
   ],
   "source": [
    "# Repeating and Concatnating \n",
    "tuple5  = tuple4 *3 \n",
    "print(tuple5)"
   ]
  },
  {
   "cell_type": "code",
   "execution_count": 55,
   "metadata": {},
   "outputs": [
    {
     "name": "stdout",
     "output_type": "stream",
     "text": [
      "(16, 8, 1989, 16, 8, 1989, 16, 8, 1989)\n"
     ]
    }
   ],
   "source": [
    "tuple6 = (16,8,1989) *3\n",
    "print(tuple6)"
   ]
  },
  {
   "cell_type": "code",
   "execution_count": 56,
   "metadata": {},
   "outputs": [
    {
     "name": "stdout",
     "output_type": "stream",
     "text": [
      "(21, 2, 1989, 21, 2, 1989, 21, 2, 1989, 16, 8, 1989, 16, 8, 1989, 16, 8, 1989)\n"
     ]
    }
   ],
   "source": [
    "tuple7 = tuple5+ tuple6\n",
    "print(tuple7)"
   ]
  },
  {
   "cell_type": "code",
   "execution_count": 57,
   "metadata": {},
   "outputs": [
    {
     "name": "stdout",
     "output_type": "stream",
     "text": [
      "(21, 2, 1989, 21, 2, 1989, 21, 2, 1989, 16, 8, 1989, 16, 8, 1989, 16, 8, 1989)\n",
      "2\n",
      "1989\n"
     ]
    }
   ],
   "source": [
    "# Min and Max Function in Tuple \n",
    "print(tuple7)\n",
    "print(min(tuple7))\n",
    "print(max(tuple7))"
   ]
  },
  {
   "cell_type": "markdown",
   "metadata": {},
   "source": [
    "#### List[]\n",
    "\n",
    "1. List is an ordered collection of elements enclosed within []\n",
    "2. Unlike tuples, Lists are mutable in nature i.e. once created; you can modified them."
   ]
  },
  {
   "cell_type": "code",
   "execution_count": 58,
   "metadata": {},
   "outputs": [
    {
     "name": "stdout",
     "output_type": "stream",
     "text": [
      "[81, False, 'Sardar Patel', 5.3]\n"
     ]
    }
   ],
   "source": [
    "list1 = [81, False, \"Sardar Patel\", 5.3]\n",
    "print(list1)"
   ]
  },
  {
   "cell_type": "code",
   "execution_count": 59,
   "metadata": {},
   "outputs": [
    {
     "name": "stdout",
     "output_type": "stream",
     "text": [
      "[81, False, 'Sardar Patel', 5.3]\n",
      "5.3\n",
      "81\n",
      "[False, 'Sardar Patel']\n"
     ]
    }
   ],
   "source": [
    "# Extracting elements or sequence of elements from a list \n",
    "\n",
    "# Example \n",
    "print(list1)\n",
    "\n",
    "# Extract elements \n",
    "print(list1[3])\n",
    "print(list1[0])\n",
    "\n",
    "# Extract 2 and 3 element from the list \n",
    "print(list1[1:3]) # Note that end index position no excluded while extracting elements\n"
   ]
  },
  {
   "cell_type": "code",
   "execution_count": 60,
   "metadata": {},
   "outputs": [
    {
     "name": "stdout",
     "output_type": "stream",
     "text": [
      "[81, False, 'Sardar Patel', 5.3]\n",
      "[81, True, 'Sardar Patel', 5.3]\n"
     ]
    }
   ],
   "source": [
    "# Modifying a list \n",
    "# changing value on index 1 \n",
    "print(list1)\n",
    "list1[1] = True\n",
    "print(list1)"
   ]
  },
  {
   "cell_type": "code",
   "execution_count": 61,
   "metadata": {},
   "outputs": [
    {
     "name": "stdout",
     "output_type": "stream",
     "text": [
      "[81, True, 'Sardar Patel', 5.3]\n",
      "[81, True, 'Sardar Patel', 5.3, 'First Home Minister of India']\n"
     ]
    }
   ],
   "source": [
    "# append new element in existing list \n",
    "print(list1)\n",
    "list1.append(\"First Home Minister of India\")\n",
    "print(list1)"
   ]
  },
  {
   "cell_type": "code",
   "execution_count": 62,
   "metadata": {},
   "outputs": [
    {
     "name": "stdout",
     "output_type": "stream",
     "text": [
      "[81, True, 'Sardar Patel', 5.3, 'First Home Minister of India']\n"
     ]
    },
    {
     "data": {
      "text/plain": [
       "81"
      ]
     },
     "execution_count": 62,
     "metadata": {},
     "output_type": "execute_result"
    }
   ],
   "source": [
    "# Removing element from the list\n",
    "print(list1)\n",
    "list1.pop(0) # this removed the index position value from the list "
   ]
  },
  {
   "cell_type": "code",
   "execution_count": 63,
   "metadata": {},
   "outputs": [
    {
     "name": "stdout",
     "output_type": "stream",
     "text": [
      "[True, 'Sardar Patel', 5.3, 'First Home Minister of India']\n",
      "[True, 'Sardar Patel', 5.3]\n"
     ]
    }
   ],
   "source": [
    "# if you dont specify the index position it will automatically remove the last element from the index\n",
    "print(list1)\n",
    "list1.pop()\n",
    "print(list1)"
   ]
  },
  {
   "cell_type": "code",
   "execution_count": 64,
   "metadata": {},
   "outputs": [
    {
     "name": "stdout",
     "output_type": "stream",
     "text": [
      "[True, 'Sardar Patel', 5.3]\n"
     ]
    }
   ],
   "source": [
    "print(list1)"
   ]
  },
  {
   "cell_type": "code",
   "execution_count": 65,
   "metadata": {},
   "outputs": [],
   "source": [
    "list2 = [\"India\", \"Home Minister\", \" Sardar Patel\" , 1950]"
   ]
  },
  {
   "cell_type": "code",
   "execution_count": 66,
   "metadata": {},
   "outputs": [
    {
     "data": {
      "text/plain": [
       "['India', 'Home Minister', ' Sardar Patel', 1950]"
      ]
     },
     "execution_count": 66,
     "metadata": {},
     "output_type": "execute_result"
    }
   ],
   "source": [
    "list2"
   ]
  },
  {
   "cell_type": "code",
   "execution_count": 67,
   "metadata": {},
   "outputs": [
    {
     "name": "stdout",
     "output_type": "stream",
     "text": [
      "[1950, ' Sardar Patel', 'Home Minister', 'India']\n"
     ]
    }
   ],
   "source": [
    "# Reversing the elements of list \n",
    "list2.reverse()\n",
    "print(list2)"
   ]
  },
  {
   "cell_type": "code",
   "execution_count": 68,
   "metadata": {},
   "outputs": [
    {
     "data": {
      "text/plain": [
       "'\\nlist2.sort() # this function will run only if all the elements with the list are of same type\\n'"
      ]
     },
     "execution_count": 68,
     "metadata": {},
     "output_type": "execute_result"
    }
   ],
   "source": [
    "# Sorting the list \n",
    "'''\n",
    "list2.sort() # this function will run only if all the elements with the list are of same type\n",
    "'''"
   ]
  },
  {
   "cell_type": "code",
   "execution_count": 69,
   "metadata": {},
   "outputs": [
    {
     "data": {
      "text/plain": [
       "[100, 340, 343, 531, 200]"
      ]
     },
     "execution_count": 69,
     "metadata": {},
     "output_type": "execute_result"
    }
   ],
   "source": [
    "list3 = [100, 340, 343, 531, 200]\n",
    "list3"
   ]
  },
  {
   "cell_type": "code",
   "execution_count": 70,
   "metadata": {},
   "outputs": [],
   "source": [
    "list3.sort()"
   ]
  },
  {
   "cell_type": "code",
   "execution_count": 71,
   "metadata": {},
   "outputs": [
    {
     "data": {
      "text/plain": [
       "[100, 200, 340, 343, 531]"
      ]
     },
     "execution_count": 71,
     "metadata": {},
     "output_type": "execute_result"
    }
   ],
   "source": [
    "list3"
   ]
  },
  {
   "cell_type": "code",
   "execution_count": 72,
   "metadata": {},
   "outputs": [
    {
     "data": {
      "text/plain": [
       "[1950, ' Sardar Patel', 'Home Minister', 'India']"
      ]
     },
     "execution_count": 72,
     "metadata": {},
     "output_type": "execute_result"
    }
   ],
   "source": [
    "# Inserting element at a specific location \n",
    "list2"
   ]
  },
  {
   "cell_type": "code",
   "execution_count": 73,
   "metadata": {},
   "outputs": [],
   "source": [
    "list2.insert(3, \"in\")"
   ]
  },
  {
   "cell_type": "code",
   "execution_count": 74,
   "metadata": {},
   "outputs": [],
   "source": [
    "list2.reverse()"
   ]
  },
  {
   "cell_type": "code",
   "execution_count": 75,
   "metadata": {},
   "outputs": [
    {
     "data": {
      "text/plain": [
       "['India', 'in', 'Home Minister', ' Sardar Patel', 1950]"
      ]
     },
     "execution_count": 75,
     "metadata": {},
     "output_type": "execute_result"
    }
   ],
   "source": [
    "list2"
   ]
  },
  {
   "cell_type": "code",
   "execution_count": 76,
   "metadata": {},
   "outputs": [
    {
     "name": "stdout",
     "output_type": "stream",
     "text": [
      "[16, 8, 1989]\n",
      "[21, 2, 1989]\n"
     ]
    }
   ],
   "source": [
    "# Concatnating and Repeating elements in List\n",
    "# concat\n",
    "list4 = [16,8,1989]\n",
    "list5 = [21,2,1989]\n",
    "print(list4)\n",
    "print(list5)"
   ]
  },
  {
   "cell_type": "code",
   "execution_count": 77,
   "metadata": {},
   "outputs": [
    {
     "name": "stdout",
     "output_type": "stream",
     "text": [
      "[21, 2, 1989, 16, 8, 1989]\n"
     ]
    }
   ],
   "source": [
    "list6 =list5 + list4\n",
    "print(list6)"
   ]
  },
  {
   "cell_type": "code",
   "execution_count": 78,
   "metadata": {},
   "outputs": [
    {
     "name": "stdout",
     "output_type": "stream",
     "text": [
      "[21, 2, 1989, 21, 2, 1989, 16, 8, 1989, 16, 8, 1989, 16, 8, 1989]\n"
     ]
    }
   ],
   "source": [
    "# Repeating list\n",
    "\n",
    "list7 = list5 * 2 + list4 *3\n",
    "print(list7)"
   ]
  },
  {
   "cell_type": "markdown",
   "metadata": {},
   "source": [
    "#### Dictionary{}\n",
    "\n",
    "1. Dictionary is an unordered collection of key-value pair enclosed with {}\n",
    "2. Dictionary is mutable in nature i.e. once created; you can modified them."
   ]
  },
  {
   "cell_type": "code",
   "execution_count": 79,
   "metadata": {},
   "outputs": [
    {
     "data": {
      "text/plain": [
       "{'apple': 50, 'mango': 100, 'guava': 200, 'banana': 500}"
      ]
     },
     "execution_count": 79,
     "metadata": {},
     "output_type": "execute_result"
    }
   ],
   "source": [
    "# syntax - Dic1 = {key1:value1, key2:value2}\n",
    "Dict1 = {\"apple\":50, \"mango\":100, \"guava\":200, \"banana\": 500}\n",
    "Dict1"
   ]
  },
  {
   "cell_type": "code",
   "execution_count": 80,
   "metadata": {},
   "outputs": [
    {
     "data": {
      "text/plain": [
       "dict"
      ]
     },
     "execution_count": 80,
     "metadata": {},
     "output_type": "execute_result"
    }
   ],
   "source": [
    "type(Dict1)"
   ]
  },
  {
   "cell_type": "code",
   "execution_count": 81,
   "metadata": {},
   "outputs": [
    {
     "data": {
      "text/plain": [
       "dict_keys(['apple', 'mango', 'guava', 'banana'])"
      ]
     },
     "execution_count": 81,
     "metadata": {},
     "output_type": "execute_result"
    }
   ],
   "source": [
    "# Extract Keys from Dictionary\n",
    "Dict1.keys()"
   ]
  },
  {
   "cell_type": "code",
   "execution_count": 82,
   "metadata": {},
   "outputs": [
    {
     "data": {
      "text/plain": [
       "dict_values([50, 100, 200, 500])"
      ]
     },
     "execution_count": 82,
     "metadata": {},
     "output_type": "execute_result"
    }
   ],
   "source": [
    "# Extract Values from Dictionary\n",
    "Dict1.values()"
   ]
  },
  {
   "cell_type": "code",
   "execution_count": 83,
   "metadata": {},
   "outputs": [
    {
     "data": {
      "text/plain": [
       "{'apple': 50, 'mango': 100, 'guava': 200, 'banana': 500}"
      ]
     },
     "execution_count": 83,
     "metadata": {},
     "output_type": "execute_result"
    }
   ],
   "source": [
    "# Modifying Values Within the Dictionary\n",
    "Dict1"
   ]
  },
  {
   "cell_type": "code",
   "execution_count": 84,
   "metadata": {},
   "outputs": [],
   "source": [
    "Dict1[\"orange\"]=15"
   ]
  },
  {
   "cell_type": "code",
   "execution_count": 85,
   "metadata": {},
   "outputs": [
    {
     "data": {
      "text/plain": [
       "{'apple': 50, 'mango': 100, 'guava': 200, 'banana': 500, 'orange': 15}"
      ]
     },
     "execution_count": 85,
     "metadata": {},
     "output_type": "execute_result"
    }
   ],
   "source": [
    "Dict1"
   ]
  },
  {
   "cell_type": "code",
   "execution_count": 86,
   "metadata": {},
   "outputs": [
    {
     "data": {
      "text/plain": [
       "{'apple': 50, 'mango': 100, 'guava': 200, 'banana': 50, 'orange': 15}"
      ]
     },
     "execution_count": 86,
     "metadata": {},
     "output_type": "execute_result"
    }
   ],
   "source": [
    "Dict1[\"banana\"]=50\n",
    "Dict1"
   ]
  },
  {
   "cell_type": "code",
   "execution_count": 87,
   "metadata": {},
   "outputs": [
    {
     "data": {
      "text/plain": [
       "{'apple': 50, 'mango': 100, 'guava': 200, 'banana': 50, 'orange': 15}"
      ]
     },
     "execution_count": 87,
     "metadata": {},
     "output_type": "execute_result"
    }
   ],
   "source": [
    "# Using Function in Dictionary\n",
    "Dict1"
   ]
  },
  {
   "cell_type": "code",
   "execution_count": 88,
   "metadata": {},
   "outputs": [
    {
     "data": {
      "text/plain": [
       "{'pinapple': 150, 'watermelon': 120, 'chiku': 170}"
      ]
     },
     "execution_count": 88,
     "metadata": {},
     "output_type": "execute_result"
    }
   ],
   "source": [
    "Dict2 = {\"pinapple\": 150, \"watermelon\": 120, \"chiku\": 170}\n",
    "Dict2"
   ]
  },
  {
   "cell_type": "code",
   "execution_count": 89,
   "metadata": {},
   "outputs": [],
   "source": [
    "Dict1.update(Dict2) # this will update Dictionary Dict1 by adding Dict2 within it"
   ]
  },
  {
   "cell_type": "code",
   "execution_count": 90,
   "metadata": {},
   "outputs": [
    {
     "data": {
      "text/plain": [
       "{'apple': 50,\n",
       " 'mango': 100,\n",
       " 'guava': 200,\n",
       " 'banana': 50,\n",
       " 'orange': 15,\n",
       " 'pinapple': 150,\n",
       " 'watermelon': 120,\n",
       " 'chiku': 170}"
      ]
     },
     "execution_count": 90,
     "metadata": {},
     "output_type": "execute_result"
    }
   ],
   "source": [
    "Dict1"
   ]
  },
  {
   "cell_type": "code",
   "execution_count": 91,
   "metadata": {},
   "outputs": [
    {
     "data": {
      "text/plain": [
       "200"
      ]
     },
     "execution_count": 91,
     "metadata": {},
     "output_type": "execute_result"
    }
   ],
   "source": [
    "# Remove a key value from the existing Dictionary\n",
    "Dict1.pop(\"guava\")"
   ]
  },
  {
   "cell_type": "code",
   "execution_count": 92,
   "metadata": {},
   "outputs": [
    {
     "data": {
      "text/plain": [
       "{'apple': 50,\n",
       " 'mango': 100,\n",
       " 'banana': 50,\n",
       " 'orange': 15,\n",
       " 'pinapple': 150,\n",
       " 'watermelon': 120,\n",
       " 'chiku': 170}"
      ]
     },
     "execution_count": 92,
     "metadata": {},
     "output_type": "execute_result"
    }
   ],
   "source": [
    "Dict1"
   ]
  },
  {
   "cell_type": "markdown",
   "metadata": {},
   "source": [
    "##### If Statement\n",
    "\n",
    "It is a conditional statement. \n",
    "\n",
    "    if(condition){\n",
    "    ### if condition is true then\n",
    "    \"this statement will be executed\" \n",
    "    }\n",
    "    else{\n",
    "    ### if condition is false then \n",
    "    \"this statement will be executed\"\n",
    "    }\n"
   ]
  },
  {
   "cell_type": "code",
   "execution_count": 93,
   "metadata": {},
   "outputs": [
    {
     "data": {
      "text/plain": [
       "(10, 20)"
      ]
     },
     "execution_count": 93,
     "metadata": {},
     "output_type": "execute_result"
    }
   ],
   "source": [
    "a = 10\n",
    "b = 20\n",
    "a , b"
   ]
  },
  {
   "cell_type": "code",
   "execution_count": 94,
   "metadata": {},
   "outputs": [],
   "source": [
    "# now we want to evaluate if variable a is greater than variable b\n",
    "if a>b:\n",
    "    print(\"a is greater than b\") # this indentation is very important to successfully execute if else statement\n",
    "    \n",
    "# the above statement will be blank a this is the false condition and we have not mentioned any output for the false statement \n",
    "# so it is important to put else condition if you want to return false statement output"
   ]
  },
  {
   "cell_type": "code",
   "execution_count": 95,
   "metadata": {},
   "outputs": [
    {
     "name": "stdout",
     "output_type": "stream",
     "text": [
      "a is not greater than b\n"
     ]
    }
   ],
   "source": [
    "# now we want to evaluate if variable a is greater than variable b\n",
    "if a>b:\n",
    "    print(\"a is greater than b\") # this indentation is very important to successfully execute if else statement\n",
    "else:\n",
    "    print(\"a is not greater than b\")"
   ]
  },
  {
   "cell_type": "code",
   "execution_count": 96,
   "metadata": {},
   "outputs": [
    {
     "data": {
      "text/plain": [
       "30"
      ]
     },
     "execution_count": 96,
     "metadata": {},
     "output_type": "execute_result"
    }
   ],
   "source": [
    "c = 30 \n",
    "c"
   ]
  },
  {
   "cell_type": "code",
   "execution_count": 97,
   "metadata": {},
   "outputs": [
    {
     "name": "stdout",
     "output_type": "stream",
     "text": [
      "c holding greatest value in it\n"
     ]
    }
   ],
   "source": [
    "# multi-condition evaluation(using logical Operator) -  let us try to evaluate 3 variables condition in if else using nested if else\n",
    "if (a>b) & (a>c):\n",
    "    print(\"a holding greatest value in it\") \n",
    "    #if you execute state till here it will return nothing as a is holding smallest value \n",
    "elif (b>a) & (b>c):\n",
    "    print(\"b holding greatest value in it\") \n",
    "else:\n",
    "    print(\"c holding greatest value in it\")"
   ]
  },
  {
   "cell_type": "code",
   "execution_count": 98,
   "metadata": {},
   "outputs": [
    {
     "data": {
      "text/plain": [
       "(10, 20, 30)"
      ]
     },
     "execution_count": 98,
     "metadata": {},
     "output_type": "execute_result"
    }
   ],
   "source": [
    "a,b,c"
   ]
  },
  {
   "cell_type": "code",
   "execution_count": 99,
   "metadata": {},
   "outputs": [],
   "source": [
    "# Using if else to evalute if value is present in tuple or dictionary\n",
    "tuple8 = (\"apple\",\"orange\",\"banana\",\"mango\")"
   ]
  },
  {
   "cell_type": "code",
   "execution_count": 100,
   "metadata": {},
   "outputs": [
    {
     "data": {
      "text/plain": [
       "('apple', 'orange', 'banana', 'mango')"
      ]
     },
     "execution_count": 100,
     "metadata": {},
     "output_type": "execute_result"
    }
   ],
   "source": [
    "tuple8"
   ]
  },
  {
   "cell_type": "code",
   "execution_count": 101,
   "metadata": {},
   "outputs": [
    {
     "name": "stdout",
     "output_type": "stream",
     "text": [
      "Mango is present in the tuple8\n"
     ]
    }
   ],
   "source": [
    "# tuple - if else evaluate\n",
    "if \"mango\" in tuple8:\n",
    "    print(\"Mango is present in the tuple8\")"
   ]
  },
  {
   "cell_type": "code",
   "execution_count": 102,
   "metadata": {},
   "outputs": [
    {
     "name": "stdout",
     "output_type": "stream",
     "text": [
      "Pinapple is not present in the tuple8\n"
     ]
    }
   ],
   "source": [
    "if \"pinapple\" in tuple8:\n",
    "    print(\"Pinapple is present in the tuple8\")\n",
    "else:\n",
    "    print(\"Pinapple is not present in the tuple8\")"
   ]
  },
  {
   "cell_type": "code",
   "execution_count": 103,
   "metadata": {},
   "outputs": [
    {
     "data": {
      "text/plain": [
       "{'mango': 80, 'orange': 150, 'apple': 200, 'banana': 60}"
      ]
     },
     "execution_count": 103,
     "metadata": {},
     "output_type": "execute_result"
    }
   ],
   "source": [
    "Dict4 = { \"mango\": 80, \"orange\": 150, \"apple\": 200, \"banana\": 60}\n",
    "Dict4"
   ]
  },
  {
   "cell_type": "code",
   "execution_count": 104,
   "metadata": {},
   "outputs": [
    {
     "name": "stdout",
     "output_type": "stream",
     "text": [
      "Apple is present in the Dict4\n"
     ]
    }
   ],
   "source": [
    "# Dictionary - if else evaluate\n",
    "if \"apple\" in Dict4:\n",
    "    print(\"Apple is present in the Dict4\")"
   ]
  },
  {
   "cell_type": "code",
   "execution_count": 105,
   "metadata": {},
   "outputs": [
    {
     "name": "stdout",
     "output_type": "stream",
     "text": [
      "Guava is not present in the Dict4\n"
     ]
    }
   ],
   "source": [
    "if \"guava\" in Dict4:\n",
    "    print(\"Guava is present in the Dict4\")\n",
    "else:\n",
    "    print(\"Guava is not present in the Dict4\")"
   ]
  },
  {
   "cell_type": "code",
   "execution_count": 106,
   "metadata": {},
   "outputs": [
    {
     "data": {
      "text/plain": [
       "['apple', 'orange', 'pinapple', 'watermelon']"
      ]
     },
     "execution_count": 106,
     "metadata": {},
     "output_type": "execute_result"
    }
   ],
   "source": [
    "# List - if else evaluate\n",
    "list8 = [\"apple\", \"orange\", \"pinapple\", \"watermelon\"]\n",
    "list8"
   ]
  },
  {
   "cell_type": "code",
   "execution_count": 107,
   "metadata": {},
   "outputs": [
    {
     "name": "stdout",
     "output_type": "stream",
     "text": [
      "orange is present in list8\n"
     ]
    }
   ],
   "source": [
    "if \"orange\" in list8:\n",
    "    print(\"orange is present in list8\")"
   ]
  },
  {
   "cell_type": "code",
   "execution_count": 108,
   "metadata": {},
   "outputs": [
    {
     "name": "stdout",
     "output_type": "stream",
     "text": [
      "banana is not present in list8\n"
     ]
    }
   ],
   "source": [
    "if \"banana\" in list8:\n",
    "    print(\"banana is present in list8\")\n",
    "else:\n",
    "    print(\"banana is not present in list8\")"
   ]
  },
  {
   "cell_type": "code",
   "execution_count": 109,
   "metadata": {},
   "outputs": [
    {
     "name": "stdout",
     "output_type": "stream",
     "text": [
      "yes, orange is not on second position. you can not update it\n"
     ]
    }
   ],
   "source": [
    "# using if else to modify the list \n",
    "if list8[2] == \"orange\":\n",
    "    print(\"yes, orange is on second position. you can update it\")\n",
    "    list8[2]=\"banana\"\n",
    "else:\n",
    "    print(\"yes, orange is not on second position. you can not update it\")"
   ]
  },
  {
   "cell_type": "code",
   "execution_count": 110,
   "metadata": {},
   "outputs": [
    {
     "data": {
      "text/plain": [
       "['apple', 'orange', 'pinapple', 'watermelon']"
      ]
     },
     "execution_count": 110,
     "metadata": {},
     "output_type": "execute_result"
    }
   ],
   "source": [
    "list8"
   ]
  },
  {
   "cell_type": "code",
   "execution_count": 111,
   "metadata": {},
   "outputs": [
    {
     "name": "stdout",
     "output_type": "stream",
     "text": [
      "yes, orange is on second position. you can update it\n"
     ]
    }
   ],
   "source": [
    "# using if else to modify the list \n",
    "if list8[1] == \"orange\":\n",
    "    print(\"yes, orange is on second position. you can update it\")\n",
    "    list8[1]=\"banana\"\n",
    "else:\n",
    "    print(\"yes, orange is not on second position. you can not update it\")"
   ]
  },
  {
   "cell_type": "code",
   "execution_count": 112,
   "metadata": {},
   "outputs": [
    {
     "data": {
      "text/plain": [
       "['apple', 'banana', 'pinapple', 'watermelon']"
      ]
     },
     "execution_count": 112,
     "metadata": {},
     "output_type": "execute_result"
    }
   ],
   "source": [
    "list8"
   ]
  },
  {
   "cell_type": "code",
   "execution_count": 113,
   "metadata": {},
   "outputs": [
    {
     "data": {
      "text/plain": [
       "{'mango': 80, 'orange': 150, 'apple': 200, 'banana': 60}"
      ]
     },
     "execution_count": 113,
     "metadata": {},
     "output_type": "execute_result"
    }
   ],
   "source": [
    "# using if else to modify dictionary\n",
    "Dict4"
   ]
  },
  {
   "cell_type": "code",
   "execution_count": 114,
   "metadata": {},
   "outputs": [],
   "source": [
    "if Dict4[\"apple\"]==200:\n",
    "    Dict4[\"apple\"]=200 + (200 * 0.10) # if the condition true then increase the price by 10%"
   ]
  },
  {
   "cell_type": "code",
   "execution_count": 115,
   "metadata": {},
   "outputs": [
    {
     "data": {
      "text/plain": [
       "{'mango': 80, 'orange': 150, 'apple': 220.0, 'banana': 60}"
      ]
     },
     "execution_count": 115,
     "metadata": {},
     "output_type": "execute_result"
    }
   ],
   "source": [
    "Dict4"
   ]
  },
  {
   "cell_type": "markdown",
   "metadata": {},
   "source": [
    "##### Looping Statement\n",
    "    1. Looping statement are used to repeat a tak multiple times \n",
    "    2. Keep repeating the task untill and unless a specific condition is met"
   ]
  },
  {
   "cell_type": "code",
   "execution_count": 116,
   "metadata": {},
   "outputs": [],
   "source": [
    "## While Loop\n",
    "# In while loop specific condition is checked and till the time that condition is true the statement will execute else stop"
   ]
  },
  {
   "cell_type": "code",
   "execution_count": 117,
   "metadata": {},
   "outputs": [
    {
     "name": "stdout",
     "output_type": "stream",
     "text": [
      "1\n",
      "2\n",
      "3\n",
      "4\n",
      "5\n",
      "6\n",
      "7\n",
      "8\n",
      "9\n",
      "10\n"
     ]
    }
   ],
   "source": [
    "i = 1\n",
    "while i<=10: # condition\n",
    "    print(i)  #statement to be executed \n",
    "    i = i+1"
   ]
  },
  {
   "cell_type": "code",
   "execution_count": 118,
   "metadata": {},
   "outputs": [
    {
     "name": "stdout",
     "output_type": "stream",
     "text": [
      "1\n",
      "2\n",
      "3\n",
      "4\n",
      "5\n",
      "6\n"
     ]
    }
   ],
   "source": [
    "i=1 \n",
    "while i/2<=3:\n",
    "    print(i)\n",
    "    i=i+1"
   ]
  },
  {
   "cell_type": "code",
   "execution_count": 119,
   "metadata": {},
   "outputs": [
    {
     "name": "stdout",
     "output_type": "stream",
     "text": [
      "2\n",
      "4\n",
      "6\n",
      "8\n",
      "10\n",
      "12\n",
      "14\n",
      "16\n",
      "18\n",
      "20\n"
     ]
    }
   ],
   "source": [
    "i = 1 \n",
    "n = 2\n",
    "while i<=10:\n",
    "    print(i*n)\n",
    "    i = 1+i"
   ]
  },
  {
   "cell_type": "code",
   "execution_count": 120,
   "metadata": {},
   "outputs": [
    {
     "data": {
      "text/plain": [
       "[1, 2, 3, 4, 5]"
      ]
     },
     "execution_count": 120,
     "metadata": {},
     "output_type": "execute_result"
    }
   ],
   "source": [
    "list9 = [1,2,3,4,5]\n",
    "list9"
   ]
  },
  {
   "cell_type": "code",
   "execution_count": 121,
   "metadata": {},
   "outputs": [],
   "source": [
    "i = 0 "
   ]
  },
  {
   "cell_type": "code",
   "execution_count": 122,
   "metadata": {},
   "outputs": [],
   "source": [
    "while i<= 4:\n",
    "    list9[i] = list9[i]*2\n",
    "    i = i + 1"
   ]
  },
  {
   "cell_type": "code",
   "execution_count": 123,
   "metadata": {},
   "outputs": [
    {
     "data": {
      "text/plain": [
       "[2, 4, 6, 8, 10]"
      ]
     },
     "execution_count": 123,
     "metadata": {},
     "output_type": "execute_result"
    }
   ],
   "source": [
    "list9"
   ]
  },
  {
   "cell_type": "markdown",
   "metadata": {},
   "source": [
    "##### For Loop \n",
    "- for loop is used to iterate over a sequence(tuple, list, dictionary..)\n"
   ]
  },
  {
   "cell_type": "code",
   "execution_count": 124,
   "metadata": {},
   "outputs": [
    {
     "data": {
      "text/plain": [
       "['orange', 'mango', 'apple', 'banana']"
      ]
     },
     "execution_count": 124,
     "metadata": {},
     "output_type": "execute_result"
    }
   ],
   "source": [
    "list10 = [\"orange\", \"mango\", \"apple\", \"banana\"]\n",
    "list10"
   ]
  },
  {
   "cell_type": "code",
   "execution_count": 125,
   "metadata": {},
   "outputs": [
    {
     "name": "stdout",
     "output_type": "stream",
     "text": [
      "orange\n",
      "mango\n",
      "apple\n",
      "banana\n"
     ]
    }
   ],
   "source": [
    "for i in list10:\n",
    "    print(i)"
   ]
  },
  {
   "cell_type": "code",
   "execution_count": 126,
   "metadata": {},
   "outputs": [],
   "source": [
    "list11 = list(range(1,21))"
   ]
  },
  {
   "cell_type": "code",
   "execution_count": 127,
   "metadata": {},
   "outputs": [
    {
     "data": {
      "text/plain": [
       "[1, 2, 3, 4, 5, 6, 7, 8, 9, 10, 11, 12, 13, 14, 15, 16, 17, 18, 19, 20]"
      ]
     },
     "execution_count": 127,
     "metadata": {},
     "output_type": "execute_result"
    }
   ],
   "source": [
    "list11"
   ]
  },
  {
   "cell_type": "code",
   "execution_count": 128,
   "metadata": {},
   "outputs": [
    {
     "name": "stdout",
     "output_type": "stream",
     "text": [
      "2\n",
      "4\n",
      "6\n",
      "8\n",
      "10\n",
      "12\n",
      "14\n",
      "16\n",
      "18\n",
      "20\n"
     ]
    }
   ],
   "source": [
    "# list all the numbers in the list divisible by 2 \n",
    "for i in list11:\n",
    "    if(i%2==0):\n",
    "        print(i)"
   ]
  },
  {
   "cell_type": "code",
   "execution_count": 129,
   "metadata": {},
   "outputs": [
    {
     "data": {
      "text/plain": [
       "(0,\n",
       " 1,\n",
       " 2,\n",
       " 3,\n",
       " 4,\n",
       " 5,\n",
       " 6,\n",
       " 7,\n",
       " 8,\n",
       " 9,\n",
       " 10,\n",
       " 11,\n",
       " 12,\n",
       " 13,\n",
       " 14,\n",
       " 15,\n",
       " 16,\n",
       " 17,\n",
       " 18,\n",
       " 19,\n",
       " 20,\n",
       " 21,\n",
       " 22,\n",
       " 23,\n",
       " 24,\n",
       " 25,\n",
       " 26,\n",
       " 27,\n",
       " 28,\n",
       " 29,\n",
       " 30,\n",
       " 31,\n",
       " 32,\n",
       " 33,\n",
       " 34,\n",
       " 35,\n",
       " 36,\n",
       " 37,\n",
       " 38,\n",
       " 39,\n",
       " 40,\n",
       " 41,\n",
       " 42,\n",
       " 43,\n",
       " 44,\n",
       " 45,\n",
       " 46,\n",
       " 47,\n",
       " 48,\n",
       " 49,\n",
       " 50)"
      ]
     },
     "execution_count": 129,
     "metadata": {},
     "output_type": "execute_result"
    }
   ],
   "source": [
    "tuple9 = tuple(range(0,51))\n",
    "tuple9"
   ]
  },
  {
   "cell_type": "code",
   "execution_count": 130,
   "metadata": {},
   "outputs": [
    {
     "name": "stdout",
     "output_type": "stream",
     "text": [
      "0\n",
      "5\n",
      "10\n",
      "15\n",
      "20\n",
      "25\n",
      "30\n",
      "35\n",
      "40\n",
      "45\n",
      "50\n"
     ]
    }
   ],
   "source": [
    "# print all the values in the tuple which are divisible by 5\n",
    "for i in tuple9:\n",
    "    if i%5==0:\n",
    "        print(i)"
   ]
  },
  {
   "cell_type": "code",
   "execution_count": 131,
   "metadata": {},
   "outputs": [
    {
     "data": {
      "text/plain": [
       "(['orange', 'black', 'white'], ['chair', 'book', 'laptop'])"
      ]
     },
     "execution_count": 131,
     "metadata": {},
     "output_type": "execute_result"
    }
   ],
   "source": [
    "list12 = [\"orange\",\"black\", \"white\"]\n",
    "list13 = [\"chair\", \"book\", \"laptop\"]\n",
    "list12, list13"
   ]
  },
  {
   "cell_type": "code",
   "execution_count": 132,
   "metadata": {},
   "outputs": [
    {
     "name": "stdout",
     "output_type": "stream",
     "text": [
      "orange - chair\n",
      "orange - book\n",
      "orange - laptop\n",
      "black - chair\n",
      "black - book\n",
      "black - laptop\n",
      "white - chair\n",
      "white - book\n",
      "white - laptop\n"
     ]
    }
   ],
   "source": [
    "for i in list12:\n",
    "    for j in list13:\n",
    "        print(i,\"-\",j)"
   ]
  },
  {
   "cell_type": "code",
   "execution_count": 133,
   "metadata": {},
   "outputs": [
    {
     "data": {
      "text/plain": [
       "((1, 2, 3, 4, 5), (1000, 1001, 1002, 1003, 1004, 1005))"
      ]
     },
     "execution_count": 133,
     "metadata": {},
     "output_type": "execute_result"
    }
   ],
   "source": [
    "tuple10 = tuple(range(1,6))\n",
    "tuple11 = tuple(range(1000,1006))\n",
    "tuple10, tuple11"
   ]
  },
  {
   "cell_type": "code",
   "execution_count": 134,
   "metadata": {},
   "outputs": [
    {
     "name": "stdout",
     "output_type": "stream",
     "text": [
      "1000 / 1  =  1000.0\n",
      "1000 / 2  =  500.0\n",
      "1000 / 3  =  333.3333333333333\n",
      "1000 / 4  =  250.0\n",
      "1000 / 5  =  200.0\n",
      "1001 / 1  =  1001.0\n",
      "1001 / 2  =  500.5\n",
      "1001 / 3  =  333.6666666666667\n",
      "1001 / 4  =  250.25\n",
      "1001 / 5  =  200.2\n",
      "1002 / 1  =  1002.0\n",
      "1002 / 2  =  501.0\n",
      "1002 / 3  =  334.0\n",
      "1002 / 4  =  250.5\n",
      "1002 / 5  =  200.4\n",
      "1003 / 1  =  1003.0\n",
      "1003 / 2  =  501.5\n",
      "1003 / 3  =  334.3333333333333\n",
      "1003 / 4  =  250.75\n",
      "1003 / 5  =  200.6\n",
      "1004 / 1  =  1004.0\n",
      "1004 / 2  =  502.0\n",
      "1004 / 3  =  334.6666666666667\n",
      "1004 / 4  =  251.0\n",
      "1004 / 5  =  200.8\n",
      "1005 / 1  =  1005.0\n",
      "1005 / 2  =  502.5\n",
      "1005 / 3  =  335.0\n",
      "1005 / 4  =  251.25\n",
      "1005 / 5  =  201.0\n"
     ]
    }
   ],
   "source": [
    "for i in tuple11:\n",
    "    for j in tuple10:\n",
    "        print(i,\"/\",j,\" = \", i/j)"
   ]
  },
  {
   "cell_type": "markdown",
   "metadata": {},
   "source": [
    "### Functions"
   ]
  },
  {
   "cell_type": "markdown",
   "metadata": {},
   "source": [
    "When you want or do a task is called function. A block of codes which perform a specific task. \n",
    "Online Banking or Depositing money through ATM( Same method to deposit money in Bank can be called as function)"
   ]
  },
  {
   "cell_type": "code",
   "execution_count": 135,
   "metadata": {},
   "outputs": [],
   "source": [
    "# creating a function \n",
    "def hello(): # here def - means definition\n",
    "    print(\"Hello World Function\")"
   ]
  },
  {
   "cell_type": "code",
   "execution_count": 136,
   "metadata": {},
   "outputs": [
    {
     "name": "stdout",
     "output_type": "stream",
     "text": [
      "Hello World Function\n"
     ]
    }
   ],
   "source": [
    "# execute or invoking a function\n",
    "hello()"
   ]
  },
  {
   "cell_type": "code",
   "execution_count": 137,
   "metadata": {},
   "outputs": [],
   "source": [
    "# creating parameterized function\n",
    "def add10(x):\n",
    "    print(x+10)"
   ]
  },
  {
   "cell_type": "code",
   "execution_count": 138,
   "metadata": {},
   "outputs": [
    {
     "name": "stdout",
     "output_type": "stream",
     "text": [
      "20\n"
     ]
    }
   ],
   "source": [
    "add10(10)"
   ]
  },
  {
   "cell_type": "code",
   "execution_count": 139,
   "metadata": {},
   "outputs": [],
   "source": [
    "def odd_check(x):\n",
    "    if x%2==0:\n",
    "        print(x, \"is even number\")\n",
    "    else:\n",
    "        print(x ,\"is odd number\")"
   ]
  },
  {
   "cell_type": "code",
   "execution_count": 140,
   "metadata": {},
   "outputs": [
    {
     "name": "stdout",
     "output_type": "stream",
     "text": [
      "21 is odd number\n"
     ]
    }
   ],
   "source": [
    "odd_check(21)"
   ]
  },
  {
   "cell_type": "code",
   "execution_count": 141,
   "metadata": {},
   "outputs": [
    {
     "name": "stdout",
     "output_type": "stream",
     "text": [
      "10 is even number\n"
     ]
    }
   ],
   "source": [
    "odd_check(10)"
   ]
  },
  {
   "cell_type": "code",
   "execution_count": 142,
   "metadata": {},
   "outputs": [],
   "source": [
    "# lambda function - anonymus function - has no name and no need to define it - we can write just 1 line and return the req results\n",
    "v1 = lambda x: x*x \n",
    "# it is normally used along with other function and they are called as filter, map and reduce functions "
   ]
  },
  {
   "cell_type": "code",
   "execution_count": 143,
   "metadata": {},
   "outputs": [
    {
     "data": {
      "text/plain": [
       "100"
      ]
     },
     "execution_count": 143,
     "metadata": {},
     "output_type": "execute_result"
    }
   ],
   "source": [
    "# invoking lambda function\n",
    "v1(10)"
   ]
  },
  {
   "cell_type": "code",
   "execution_count": 144,
   "metadata": {},
   "outputs": [
    {
     "data": {
      "text/plain": [
       "[1, 2, 3, 4, 5, 6, 7, 8, 9]"
      ]
     },
     "execution_count": 144,
     "metadata": {},
     "output_type": "execute_result"
    }
   ],
   "source": [
    "# lambda with filter - if you want to filter some values from a sequence such as list, tuple or dictionary then we use filter \n",
    "list14 = list(range(1,10))\n",
    "list14"
   ]
  },
  {
   "cell_type": "code",
   "execution_count": 145,
   "metadata": {},
   "outputs": [],
   "source": [
    "# filter(lambda function , list which you want to filter)\n",
    "list15 = list(filter(lambda x : x>4 , list14)) # this lambda function with filter will filter values from the list14 where val>4"
   ]
  },
  {
   "cell_type": "code",
   "execution_count": 146,
   "metadata": {},
   "outputs": [
    {
     "data": {
      "text/plain": [
       "[5, 6, 7, 8, 9]"
      ]
     },
     "execution_count": 146,
     "metadata": {},
     "output_type": "execute_result"
    }
   ],
   "source": [
    "list15"
   ]
  },
  {
   "cell_type": "code",
   "execution_count": 147,
   "metadata": {},
   "outputs": [
    {
     "data": {
      "text/plain": [
       "[1, 2, 3, 4, 5, 6, 7]"
      ]
     },
     "execution_count": 147,
     "metadata": {},
     "output_type": "execute_result"
    }
   ],
   "source": [
    "# lambda with map \n",
    "list16 = list(range(1,8))\n",
    "list16"
   ]
  },
  {
   "cell_type": "code",
   "execution_count": 148,
   "metadata": {},
   "outputs": [],
   "source": [
    "# map function - helps to map/repeat a specific task to every element - sequence of element\n",
    "# map(lambda function, list)\n",
    "list17 = list(map(lambda x: x *2, list16))"
   ]
  },
  {
   "cell_type": "code",
   "execution_count": 149,
   "metadata": {},
   "outputs": [
    {
     "data": {
      "text/plain": [
       "[2, 4, 6, 8, 10, 12, 14]"
      ]
     },
     "execution_count": 149,
     "metadata": {},
     "output_type": "execute_result"
    }
   ],
   "source": [
    "list17"
   ]
  },
  {
   "cell_type": "code",
   "execution_count": 150,
   "metadata": {},
   "outputs": [],
   "source": [
    "# lambda with reduce function \n",
    "# reduce can be extracted from func tools\n",
    "from functools import reduce"
   ]
  },
  {
   "cell_type": "code",
   "execution_count": 151,
   "metadata": {},
   "outputs": [
    {
     "data": {
      "text/plain": [
       "[1, 2, 3, 4, 5, 6, 7, 8, 9]"
      ]
     },
     "execution_count": 151,
     "metadata": {},
     "output_type": "execute_result"
    }
   ],
   "source": [
    "list18 = list(range(1,10))\n",
    "list18"
   ]
  },
  {
   "cell_type": "code",
   "execution_count": 152,
   "metadata": {},
   "outputs": [],
   "source": [
    "# reduce - when you want a consolidate result - reduce the out and get a consolidated output\n",
    "# reduce(lambda function, list)\n",
    "\n",
    "out1 = reduce(lambda x,y : x+y, list18)"
   ]
  },
  {
   "cell_type": "code",
   "execution_count": 153,
   "metadata": {},
   "outputs": [
    {
     "data": {
      "text/plain": [
       "45"
      ]
     },
     "execution_count": 153,
     "metadata": {},
     "output_type": "execute_result"
    }
   ],
   "source": [
    "out1"
   ]
  },
  {
   "cell_type": "code",
   "execution_count": 158,
   "metadata": {},
   "outputs": [
    {
     "data": {
      "text/plain": [
       "[1, 2, 3, 4]"
      ]
     },
     "execution_count": 158,
     "metadata": {},
     "output_type": "execute_result"
    }
   ],
   "source": [
    "#filter with lambda\n",
    "out2 = list(filter(lambda x: x<5, list18))\n",
    "out2"
   ]
  },
  {
   "cell_type": "code",
   "execution_count": 160,
   "metadata": {},
   "outputs": [
    {
     "data": {
      "text/plain": [
       "[1, 4, 9, 16, 25, 36, 49, 64, 81]"
      ]
     },
     "execution_count": 160,
     "metadata": {},
     "output_type": "execute_result"
    }
   ],
   "source": [
    "# map with lambda \n",
    "out3  = list(map(lambda x : x**2, list18))\n",
    "out3"
   ]
  },
  {
   "cell_type": "code",
   "execution_count": 170,
   "metadata": {},
   "outputs": [
    {
     "data": {
      "text/plain": [
       "2.7557319223985893e-06"
      ]
     },
     "execution_count": 170,
     "metadata": {},
     "output_type": "execute_result"
    }
   ],
   "source": [
    "# reduce with lambda\n",
    "out4 = reduce(lambda x,y : x/y, list18)\n",
    "out4"
   ]
  },
  {
   "cell_type": "markdown",
   "metadata": {},
   "source": [
    "#### Object Oriented Programming"
   ]
  },
  {
   "cell_type": "markdown",
   "metadata": {},
   "source": [
    "- We are surrounded with the objects in this real world entity. \n",
    "- We use OOP when we want to make use of real world objects in programming to perform a particular or set of task.\n",
    "- In OOP, there are two important concepts:\n",
    "1. Object -  We have already learnt what is object.\n",
    "2. Classes \n",
    "\n",
    "- Let us understand what is class? A class is nothing but a template for real world entities with two imp features:\n",
    "-  Example - Phone \n",
    "1. Properties - color, cost, battery life\n",
    "2. Behaviour - make calls, watch videos, play games \n",
    "\n",
    "- Class is nothing but a user defined data types. here mobile/phone can be called a User Defined Data Type\n",
    "\n",
    "- Object - Objects are specific instances of a class\n",
    "- An object can be called as specific instance of a class. for example CAR can be called a class in which maruti can be called as object which is an specific instance of a class CAR; similarly Honda can be called a object which is an instance of a class CAR.\n",
    "\n",
    "- In our example of Phone is a class - apple, motorola and lenova can be called a object which is an instance of class Phone"
   ]
  },
  {
   "cell_type": "code",
   "execution_count": null,
   "metadata": {},
   "outputs": [],
   "source": [
    "# Creating a Class"
   ]
  },
  {
   "cell_type": "code",
   "execution_count": 174,
   "metadata": {},
   "outputs": [],
   "source": [
    "#name of the class always start with Capital Letter\n",
    "class Phone: \n",
    "        # here self is an inbuilt parameter which is used to invoke method of class. It is important to create self as first parameter in any class     \n",
    "    def make_call(self): \n",
    "        print(\"Making a Call\")\n",
    "        \n",
    "    def play_game(self):\n",
    "        print(\"Start and play game\")        "
   ]
  },
  {
   "cell_type": "code",
   "execution_count": 175,
   "metadata": {},
   "outputs": [],
   "source": [
    "oob1 = Phone() # instantiating oob1 object "
   ]
  },
  {
   "cell_type": "code",
   "execution_count": 176,
   "metadata": {},
   "outputs": [
    {
     "name": "stdout",
     "output_type": "stream",
     "text": [
      "Making a Call\n"
     ]
    }
   ],
   "source": [
    "oob1.make_call() # invoking methods through an instantiated object "
   ]
  },
  {
   "cell_type": "code",
   "execution_count": 177,
   "metadata": {},
   "outputs": [
    {
     "name": "stdout",
     "output_type": "stream",
     "text": [
      "Start and play game\n"
     ]
    }
   ],
   "source": [
    "oob1.play_game()"
   ]
  },
  {
   "cell_type": "code",
   "execution_count": 180,
   "metadata": {},
   "outputs": [
    {
     "name": "stdout",
     "output_type": "stream",
     "text": [
      "Making a Call\n",
      "Start and play game\n"
     ]
    }
   ],
   "source": [
    "# you can directly invoke method through the class name as well\n",
    "Phone().make_call() \n",
    "Phone().play_game() "
   ]
  },
  {
   "cell_type": "code",
   "execution_count": 202,
   "metadata": {},
   "outputs": [],
   "source": [
    "# Create another class\n",
    "    \n",
    "class Print_New: \n",
    "    def print1(self, var1):\n",
    "        self.var1 = var1 # assign var1 to self to call var1 of an object print1 through class print_new\n",
    "    \n",
    "    def show_print1(self):\n",
    "        return self.var1"
   ]
  },
  {
   "cell_type": "code",
   "execution_count": 203,
   "metadata": {},
   "outputs": [],
   "source": [
    "oob2 = Print_New()"
   ]
  },
  {
   "cell_type": "code",
   "execution_count": 207,
   "metadata": {},
   "outputs": [],
   "source": [
    "oob2.print1(\"This is a Class to Print this sentance using parameterized method\")"
   ]
  },
  {
   "cell_type": "code",
   "execution_count": 208,
   "metadata": {},
   "outputs": [
    {
     "data": {
      "text/plain": [
       "'This is a Class to Print this sentance using parameterized method'"
      ]
     },
     "execution_count": 208,
     "metadata": {},
     "output_type": "execute_result"
    }
   ],
   "source": [
    "oob2.show_print1()"
   ]
  },
  {
   "cell_type": "code",
   "execution_count": 252,
   "metadata": {},
   "outputs": [],
   "source": [
    "# Creating CAR Class with objects\n",
    "class Car:\n",
    "    \n",
    "    def set_car_color(self, car_color):\n",
    "        self.car_color = car_color\n",
    "    \n",
    "    def set_car_seats(self, car_seats):\n",
    "        self.car_seats = car_seats\n",
    "        \n",
    "    def set_car_name(self, car_name):\n",
    "        self.car_name = car_name\n",
    "        \n",
    "    def set_country_origin(self, country_origin):\n",
    "        self.country_origin = country_origin\n",
    "        \n",
    "    def show_country_origin_details(self):\n",
    "        return self.country_origin\n",
    "\n",
    "    def show_car_name_details(self):\n",
    "        return self.car_name\n",
    "\n",
    "    def show_car_color_details(self):\n",
    "        return self.car_color\n",
    "\n",
    "    def show_car_seats_details(self):\n",
    "        return self.car_seats\n",
    "    \n",
    "    def show_all_together(self):\n",
    "        print(\"origin country name is\",self.country_origin)\n",
    "\n",
    "        print(\"car name is\",self.car_name)\n",
    "\n",
    "        print(\"car color is\",self.car_color)\n",
    "\n",
    "        print(\"car total seats are\",self.car_seats)"
   ]
  },
  {
   "cell_type": "code",
   "execution_count": 253,
   "metadata": {},
   "outputs": [],
   "source": [
    "oob3 = Car()"
   ]
  },
  {
   "cell_type": "code",
   "execution_count": 254,
   "metadata": {},
   "outputs": [],
   "source": [
    "oob3.set_country_origin(\"India\")\n",
    "oob3.set_car_seats(\"8 seater\")\n",
    "oob3.set_car_name(\"Maruti\")\n",
    "oob3.set_car_color(\"Red\")"
   ]
  },
  {
   "cell_type": "code",
   "execution_count": 255,
   "metadata": {},
   "outputs": [
    {
     "name": "stdout",
     "output_type": "stream",
     "text": [
      "origin country name is India\n",
      "car name is Maruti\n",
      "car color is Red\n",
      "car total seats are 8 seater\n"
     ]
    }
   ],
   "source": [
    "print(\"origin country name is\",oob3.show_country_origin_details())\n",
    "\n",
    "print(\"car name is\",oob3.show_car_name_details())\n",
    "\n",
    "print(\"car color is\",oob3.show_car_color_details())\n",
    "\n",
    "print(\"car total seats are\",oob3.show_car_seats_details())"
   ]
  },
  {
   "cell_type": "code",
   "execution_count": 256,
   "metadata": {},
   "outputs": [
    {
     "name": "stdout",
     "output_type": "stream",
     "text": [
      "origin country name is India\n",
      "car name is Maruti\n",
      "car color is Red\n",
      "car total seats are 8 seater\n"
     ]
    }
   ],
   "source": [
    "oob3.show_all_together()"
   ]
  },
  {
   "cell_type": "code",
   "execution_count": 258,
   "metadata": {},
   "outputs": [],
   "source": [
    "# Creating a class with Contructor \n",
    "# With Constructor method (__init__)we can define or assign values at the time of object creation \n",
    "\n",
    "class Car:\n",
    "    \n",
    "    def __init__(self, origin, color, seats, brand):\n",
    "        self.origin = origin\n",
    "        self.color = color \n",
    "        self.seats = seats \n",
    "        self.brand = brand\n",
    "        \n",
    "    def show_car_details(self):\n",
    "        print(\"car origin country is\", self.origin)\n",
    "        print(\"car color is\", self.color)\n",
    "        print(\"car total seats are\", self.seats)\n",
    "        print(\"car brand name is\", self.brand)"
   ]
  },
  {
   "cell_type": "code",
   "execution_count": 259,
   "metadata": {},
   "outputs": [],
   "source": [
    "oob4 = Car(\"Japan\",\"White\",\"5\",\"Honda\") # instantiating the object oob4 "
   ]
  },
  {
   "cell_type": "code",
   "execution_count": 260,
   "metadata": {},
   "outputs": [
    {
     "name": "stdout",
     "output_type": "stream",
     "text": [
      "car origin country is Japan\n",
      "car color is White\n",
      "car total seats are 5\n",
      "car brand name is Honda\n"
     ]
    }
   ],
   "source": [
    "oob4.show_car_details() # invoke show_car_details method using the object "
   ]
  },
  {
   "cell_type": "markdown",
   "metadata": {},
   "source": [
    "- In a nutshell -  we can clearly see that with OOP, we are creating a template in which we are defining various properties and behaviour (in our example CAR -  properties and behaviour) and after that instantiating the class through an object and invoking various method to output what we need."
   ]
  },
  {
   "cell_type": "markdown",
   "metadata": {},
   "source": [
    "#### Inheritance in Python"
   ]
  },
  {
   "cell_type": "markdown",
   "metadata": {},
   "source": [
    " - One class can derive the properties from other class. The class (Child) which is deriving properties from the other(Parent) is class.\n",
    " - Man is deriving genetic features/properties from its Father \n",
    " - Super Class is called as Parent Class \n",
    " - Sub Class is called as Child Class\n",
    " \n",
    " - When invoking Sub Class, we can invoke all the methods from Super Calls as well without calling them in a template  "
   ]
  },
  {
   "cell_type": "code",
   "execution_count": 289,
   "metadata": {},
   "outputs": [],
   "source": [
    "# Example Super Class For Inheritance\n",
    "\n",
    "class Car_Old:\n",
    "    \n",
    "    def set_car_color(self, color):\n",
    "        self.color = color \n",
    "        \n",
    "    def set_car_milage(self, milage):\n",
    "        self.milage = milage\n",
    "\n",
    "    def show_old_car_details(self):\n",
    "        print(\"car color was\", self.color)\n",
    "        print(\"car milage was\", self.milage)"
   ]
  },
  {
   "cell_type": "code",
   "execution_count": 290,
   "metadata": {},
   "outputs": [],
   "source": [
    "oob5 = Car_Old()"
   ]
  },
  {
   "cell_type": "code",
   "execution_count": 291,
   "metadata": {},
   "outputs": [],
   "source": [
    "oob5.set_car_color(\"White\")\n",
    "oob5.set_car_milage(35)"
   ]
  },
  {
   "cell_type": "code",
   "execution_count": 292,
   "metadata": {},
   "outputs": [
    {
     "name": "stdout",
     "output_type": "stream",
     "text": [
      "car color was White\n",
      "car milage was 35\n"
     ]
    }
   ],
   "source": [
    "oob5.show_old_car_details()"
   ]
  },
  {
   "cell_type": "code",
   "execution_count": 307,
   "metadata": {},
   "outputs": [],
   "source": [
    "# Creating Sub Class and Calling Features of Super Class\n",
    "\n",
    "class Car_New(Car_Old):\n",
    "# we can create init in super class as well however we have created here just to instantiate the object parameter \n",
    "\n",
    "    def __init__(self, color, milage):\n",
    "        self.color = color \n",
    "        self.milage = milage\n",
    "    \n",
    "    def set_new_color(self, new_color):\n",
    "        self.new_color = new_color \n",
    "        \n",
    "    def set_new_milage(self, new_milage):\n",
    "        self.new_milage = new_milage\n",
    "\n",
    "    def show_new_car_details(self):\n",
    "        print(\"new car color was\", self.new_color)\n",
    "        print(\"new car milage was\", self.new_milage)"
   ]
  },
  {
   "cell_type": "code",
   "execution_count": 308,
   "metadata": {},
   "outputs": [],
   "source": [
    "oob6 = Car_New(\"White\",35)"
   ]
  },
  {
   "cell_type": "code",
   "execution_count": 309,
   "metadata": {},
   "outputs": [],
   "source": [
    "oob6.set_new_color(\"Red\")\n",
    "oob6.set_new_milage(45)"
   ]
  },
  {
   "cell_type": "code",
   "execution_count": 310,
   "metadata": {},
   "outputs": [
    {
     "name": "stdout",
     "output_type": "stream",
     "text": [
      "new car color was Red\n",
      "new car milage was 45\n",
      "None\n"
     ]
    }
   ],
   "source": [
    "print(oob6.show_new_car_details())"
   ]
  },
  {
   "cell_type": "code",
   "execution_count": 311,
   "metadata": {},
   "outputs": [
    {
     "name": "stdout",
     "output_type": "stream",
     "text": [
      "car color was White\n",
      "car milage was 35\n",
      "None\n"
     ]
    }
   ],
   "source": [
    "print(oob6.show_old_car_details()) # Instantiating an method of super class from child class object."
   ]
  },
  {
   "cell_type": "code",
   "execution_count": 319,
   "metadata": {},
   "outputs": [],
   "source": [
    "#### Over-riding init method \n",
    "\n",
    "# Super Class Example\n",
    "class Car1:\n",
    "    def __init__(self, color, max_speed):\n",
    "        self.color = color \n",
    "        self.max_speed = max_speed\n",
    "        \n",
    "    def show_basic_features(self):\n",
    "        print(\"color of car is\", self.color)\n",
    "        print(\"maximum speed of car is\", self.max_speed)"
   ]
  },
  {
   "cell_type": "code",
   "execution_count": 321,
   "metadata": {},
   "outputs": [],
   "source": [
    "oob7 = Car1(\"White\", 90)"
   ]
  },
  {
   "cell_type": "code",
   "execution_count": 322,
   "metadata": {},
   "outputs": [
    {
     "name": "stdout",
     "output_type": "stream",
     "text": [
      "color of car is White\n",
      "maximum speed of car is 90\n"
     ]
    }
   ],
   "source": [
    "oob7.show_basic_features()"
   ]
  },
  {
   "cell_type": "code",
   "execution_count": 323,
   "metadata": {},
   "outputs": [],
   "source": [
    "# Child Class over riding example \n",
    "\n",
    "class Car2(Car1):\n",
    "    def __init__(self, color, max_speed, milage, hp):\n",
    "        super().__init__(color,max_speed)\n",
    "        self.milage = milage\n",
    "        self.hp = hp\n",
    "        \n",
    "    def show_new_car_details(self):\n",
    "        print(\"milage of car is\", self.milage)\n",
    "        print(\"hp in the car is\", self.hp)\n",
    "        \n"
   ]
  },
  {
   "cell_type": "code",
   "execution_count": 324,
   "metadata": {},
   "outputs": [],
   "source": [
    "oob8 = Car2(\"Red\", 120, 45, 100)"
   ]
  },
  {
   "cell_type": "code",
   "execution_count": 325,
   "metadata": {},
   "outputs": [
    {
     "name": "stdout",
     "output_type": "stream",
     "text": [
      "milage of car is 45\n",
      "hp in the car is 100\n"
     ]
    }
   ],
   "source": [
    "oob8.show_new_car_details() # Child class method calling"
   ]
  },
  {
   "cell_type": "code",
   "execution_count": 326,
   "metadata": {},
   "outputs": [
    {
     "name": "stdout",
     "output_type": "stream",
     "text": [
      "color of car is Red\n",
      "maximum speed of car is 120\n"
     ]
    }
   ],
   "source": [
    "oob8.show_basic_features() # Parent/super Class -  method calling"
   ]
  },
  {
   "cell_type": "markdown",
   "metadata": {},
   "source": [
    "#### Types of Inheritance in Python:\n",
    "\n",
    "1. Single Inheritance - a sub class inherit features from only one super class\n",
    "2. Multiple Inheritance - a sub class inherit features from more than one super class\n",
    "3. Multi-Level Inheritance - - There is parent- child - grand child relationship in this kind of method  \n",
    "4. Hybrid Inheritance "
   ]
  },
  {
   "cell_type": "code",
   "execution_count": 337,
   "metadata": {},
   "outputs": [],
   "source": [
    "# Multiple Inheritance \n",
    "\n",
    "class P1:\n",
    "    def show_p1_details():\n",
    "        print(\"This is parent 1 Class\")"
   ]
  },
  {
   "cell_type": "code",
   "execution_count": 339,
   "metadata": {},
   "outputs": [],
   "source": [
    "class P2:\n",
    "    def show_p2_details():\n",
    "        print(\"This is parent 2 Class\")"
   ]
  },
  {
   "cell_type": "code",
   "execution_count": 349,
   "metadata": {},
   "outputs": [],
   "source": [
    "class Child1(P1,P2):\n",
    "    def show_child1_details():\n",
    "        print(\"This is child Class\")"
   ]
  },
  {
   "cell_type": "code",
   "execution_count": 342,
   "metadata": {},
   "outputs": [],
   "source": [
    "oob9 = P1"
   ]
  },
  {
   "cell_type": "code",
   "execution_count": 343,
   "metadata": {},
   "outputs": [
    {
     "name": "stdout",
     "output_type": "stream",
     "text": [
      "This is parent 1 Class\n"
     ]
    }
   ],
   "source": [
    "oob9.show_p1_details()"
   ]
  },
  {
   "cell_type": "code",
   "execution_count": 344,
   "metadata": {},
   "outputs": [],
   "source": [
    "oob10 = P2"
   ]
  },
  {
   "cell_type": "code",
   "execution_count": 345,
   "metadata": {},
   "outputs": [
    {
     "name": "stdout",
     "output_type": "stream",
     "text": [
      "This is parent 2 Class\n"
     ]
    }
   ],
   "source": [
    "oob10.show_p2_details()"
   ]
  },
  {
   "cell_type": "code",
   "execution_count": 350,
   "metadata": {},
   "outputs": [],
   "source": [
    "oob11 = Child1"
   ]
  },
  {
   "cell_type": "code",
   "execution_count": 351,
   "metadata": {},
   "outputs": [
    {
     "name": "stdout",
     "output_type": "stream",
     "text": [
      "This is child Class\n"
     ]
    }
   ],
   "source": [
    "oob11.show_child1_details()"
   ]
  },
  {
   "cell_type": "code",
   "execution_count": 354,
   "metadata": {},
   "outputs": [
    {
     "name": "stdout",
     "output_type": "stream",
     "text": [
      "This is parent 1 Class\n",
      "None\n",
      "This is parent 2 Class\n",
      "None\n"
     ]
    }
   ],
   "source": [
    "#Inheriting features from P1 and P2 calling methods from both the Super Class/ Parent Class\n",
    "print(oob11.show_p1_details())\n",
    "\n",
    "print(oob11.show_p2_details())"
   ]
  },
  {
   "cell_type": "code",
   "execution_count": 384,
   "metadata": {},
   "outputs": [],
   "source": [
    "# Multi-Level Inherirance\n",
    "\n",
    "# Parent Class\n",
    "\n",
    "class Parent:\n",
    "    def parent_age(self, parent_age):\n",
    "        self.parent_age = parent_age\n",
    "        \n",
    "    def show_parent_age(self):\n",
    "        print(\"parent age is\", self.parent_age)"
   ]
  },
  {
   "cell_type": "code",
   "execution_count": 385,
   "metadata": {},
   "outputs": [],
   "source": [
    "oob12 = Parent()"
   ]
  },
  {
   "cell_type": "code",
   "execution_count": 386,
   "metadata": {},
   "outputs": [],
   "source": [
    "oob12.parent_age(67)"
   ]
  },
  {
   "cell_type": "code",
   "execution_count": 387,
   "metadata": {},
   "outputs": [
    {
     "name": "stdout",
     "output_type": "stream",
     "text": [
      "parent age is 67\n"
     ]
    }
   ],
   "source": [
    "oob12.show_parent_age()"
   ]
  },
  {
   "cell_type": "code",
   "execution_count": 388,
   "metadata": {},
   "outputs": [],
   "source": [
    "# Child Class with Parent Details\n",
    "\n",
    "class Child(Parent):\n",
    "    \n",
    "    def child_age(self, child_age):\n",
    "        self.child_age=child_age\n",
    "        \n",
    "    def show_child_age(self):\n",
    "        print(\"child age is\", self.child_age)"
   ]
  },
  {
   "cell_type": "code",
   "execution_count": 389,
   "metadata": {},
   "outputs": [],
   "source": [
    "oob13 = Child()"
   ]
  },
  {
   "cell_type": "code",
   "execution_count": 390,
   "metadata": {},
   "outputs": [],
   "source": [
    "oob13.child_age(32)"
   ]
  },
  {
   "cell_type": "code",
   "execution_count": 391,
   "metadata": {},
   "outputs": [],
   "source": [
    "oob13.parent_age(67)"
   ]
  },
  {
   "cell_type": "code",
   "execution_count": 392,
   "metadata": {},
   "outputs": [
    {
     "name": "stdout",
     "output_type": "stream",
     "text": [
      "parent age is 67\n",
      "None\n",
      "child age is 32\n",
      "None\n"
     ]
    }
   ],
   "source": [
    "print(oob13.show_parent_age()) # calling parent class method using child instantiated object\n",
    "print(oob13.show_child_age())"
   ]
  },
  {
   "cell_type": "code",
   "execution_count": 393,
   "metadata": {},
   "outputs": [],
   "source": [
    "# Grand Child Class\n",
    "\n",
    "class GrandChild(Child):\n",
    "    \n",
    "    def grand_child_age(self, grand_child_age):\n",
    "        self.grand_child_age=grand_child_age\n",
    "        \n",
    "    def show_grand_child_age(self):\n",
    "        print(\"child age is\", self.grand_child_age)"
   ]
  },
  {
   "cell_type": "code",
   "execution_count": 394,
   "metadata": {},
   "outputs": [],
   "source": [
    "oob14 = GrandChild()"
   ]
  },
  {
   "cell_type": "code",
   "execution_count": 395,
   "metadata": {},
   "outputs": [],
   "source": [
    "oob14.parent_age(67)\n",
    "oob14.child_age(32)\n",
    "oob14.grand_child_age(7)"
   ]
  },
  {
   "cell_type": "code",
   "execution_count": 396,
   "metadata": {},
   "outputs": [
    {
     "name": "stdout",
     "output_type": "stream",
     "text": [
      "parent age is 67\n",
      "None\n",
      "child age is 32\n",
      "None\n",
      "child age is 7\n",
      "None\n"
     ]
    }
   ],
   "source": [
    "print(oob14.show_parent_age()) # calling parent class method using grand child instantiated object\n",
    "print(oob14.show_child_age()) # calling parent class method using grand child instantiated object\n",
    "print(oob14.show_grand_child_age())"
   ]
  }
 ],
 "metadata": {
  "kernelspec": {
   "display_name": "Python 3",
   "language": "python",
   "name": "python3"
  },
  "language_info": {
   "codemirror_mode": {
    "name": "ipython",
    "version": 3
   },
   "file_extension": ".py",
   "mimetype": "text/x-python",
   "name": "python",
   "nbconvert_exporter": "python",
   "pygments_lexer": "ipython3",
   "version": "3.8.8"
  }
 },
 "nbformat": 4,
 "nbformat_minor": 2
}
